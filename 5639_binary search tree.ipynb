{
 "cells": [
  {
   "cell_type": "markdown",
   "metadata": {},
   "source": [
    "제출 코드 "
   ]
  },
  {
   "cell_type": "code",
   "execution_count": null,
   "metadata": {},
   "outputs": [],
   "source": [
    "# 성공\n",
    "import sys\n",
    "input = sys.stdin.read\n",
    "sys.setrecursionlimit(10**6)\n",
    "\n",
    "def bitree(st,root):\n",
    "    i=0  #0으로 초기화 해주면, 맨 아래 노드부터 i값이 증가하기 시작함.\n",
    "    now=b[st]\n",
    "    if st+1>=len(b): return 0\n",
    "    if now>b[st+1]: \n",
    "        i += bitree(st+1,now)    # 멈추는 역할\n",
    "    if root>b[st+i+1] : \n",
    "        i += bitree(st+i+1,root) # 위로 올라가는 역할\n",
    "    print(b[st])\n",
    "    return i+1\n",
    "\n",
    "b=list(map(int,input().split()))\n",
    "b+=[10**6+1] #st+1 = len(b)까지 돌리기 때문에, 마지막 항목 비교가 안되어, 입력수보다 큰 수를 추가\n",
    "bitree(0,10**6+1)"
   ]
  },
  {
   "cell_type": "code",
   "execution_count": null,
   "metadata": {},
   "outputs": [],
   "source": [
    "# 성공 \n",
    "\n",
    "import sys\n",
    "input = sys.stdin.readline\n",
    "sys.setrecursionlimit(10**6)\n",
    "def bitree(st,end):\n",
    "    if st >= end: \n",
    "        return \n",
    "    div_p=end\n",
    "    for i in range(st+1,end):\n",
    "        if b[st] < b[i]:\n",
    "            div_p=i\n",
    "            break\n",
    "\n",
    "    bitree(st+1,div_p)\n",
    "    bitree(div_p,end)\n",
    "    print(b[st])\n",
    "\n",
    "b=[]\n",
    "while True:\n",
    "    try :\n",
    "        b+=[int(input())]\n",
    "    except :\n",
    "        break\n",
    "\n",
    "bitree(0,len(b))"
   ]
  },
  {
   "cell_type": "code",
   "execution_count": 17,
   "metadata": {},
   "outputs": [
    {
     "name": "stdout",
     "output_type": "stream",
     "text": [
      "\n"
     ]
    }
   ],
   "source": [
    "# NG\n",
    "import sys\n",
    "input = sys.stdin.readline\n",
    "\n",
    "def bitree(st,end):\n",
    "    global l\n",
    "    if st == end-1: return [str(b[st])]\n",
    "    elif st> end-1: return []\n",
    "    \n",
    "    chk=0\n",
    "    for i in range(st+1,end):\n",
    "        if b[st] < b[i]:\n",
    "            chk=1\n",
    "            l += bitree(st+1,i)\n",
    "            l += bitree(i,end)  \n",
    "            break\n",
    "    if chk ==0:\n",
    "        l += bitree(st+1,end)\n",
    "    return [str(b[st])]\n",
    "\n",
    "b=[]\n",
    "\n",
    "while True:\n",
    "    try :\n",
    "        b+=[int(input())]\n",
    "    except :\n",
    "        break\n",
    "\n",
    "l=[]\n",
    "l+=bitree(0,len(b))\n",
    "print('\\n'.join(l))"
   ]
  },
  {
   "cell_type": "markdown",
   "metadata": {},
   "source": [
    "Test code"
   ]
  },
  {
   "cell_type": "code",
   "execution_count": 16,
   "metadata": {},
   "outputs": [
    {
     "name": "stdout",
     "output_type": "stream",
     "text": [
      "5\n",
      "28\n",
      "24\n",
      "45\n",
      "30\n",
      "60\n",
      "52\n",
      "98\n",
      "50\n"
     ]
    },
    {
     "data": {
      "text/plain": [
       "9"
      ]
     },
     "execution_count": 16,
     "metadata": {},
     "output_type": "execute_result"
    }
   ],
   "source": [
    "import sys\n",
    "input = sys.stdin.readline\n",
    "sys.setrecursionlimit(10**6)\n",
    "\n",
    "def bitree(st,root):\n",
    "    i=0  #0으로 초기화 해주면, 맨 아래 노드부터 i값이 증가하기 시작함.\n",
    "    now=b[st]\n",
    "    if st+1>=len(b): return 0\n",
    "    if now>b[st+1]: \n",
    "        i += bitree(st+1,now) # 멈추는 역할\n",
    "    if root>b[st+i+1] : \n",
    "        i += bitree(st+i+1,root)    # 위로 올라가는 역할\n",
    "    print(b[st])\n",
    "    return i+1\n",
    "\n",
    "# b=[]\n",
    "b = [50,30,24,5,28,45,98,52,60,10**6+1]\n",
    "\n",
    "# while True:\n",
    "#     try :\n",
    "#         b+=[int(input())]\n",
    "#     except :\n",
    "#         break\n",
    "\n",
    "bitree(0,10**6+1)"
   ]
  },
  {
   "cell_type": "code",
   "execution_count": null,
   "metadata": {},
   "outputs": [],
   "source": [
    "import sys;\n",
    "M=10**9;\n",
    "sys.setrecursionlimit(M);\n",
    "a=[*range(3179),M]\n",
    "\n",
    "def f(i,u):\n",
    "    p=a[i];\n",
    "    i+=1;\n",
    "    i+=p>a[i] and f(i,min(u,p))-i;\n",
    "    i+=u>a[i] and f(i,u)-i;\n",
    "    print(p);\n",
    "    return i\n",
    "f(0,M)"
   ]
  },
  {
   "cell_type": "code",
   "execution_count": null,
   "metadata": {
    "scrolled": true
   },
   "outputs": [],
   "source": [
    "import sys\n",
    "\n",
    "def dfs(pos, min_v):\n",
    "    ret = 0\n",
    "    if pos + 1 < len(orders) and orders[pos] > orders[pos + 1]: #왼쪽 트리\n",
    "        ret += dfs(pos + 1, min(min_v, orders[pos]))\n",
    "        \n",
    "    if pos + ret + 1 < len(orders) and orders[pos] < orders[pos + ret + 1] and orders[pos + ret + 1] < min_v: #오른쪽 트리\n",
    "        ret += dfs(pos + ret + 1, min_v)\n",
    "    print(orders[pos])\n",
    "    return ret + 1\n",
    "\n",
    "sys.setrecursionlimit(10009)\n",
    "\n",
    "orders = [50,30,24,5,28,45,98,52,60]\n",
    "orders = [50,30,98]\n",
    "# for v in map(int, sys.stdin.read().split()):\n",
    "#     orders.append(v)\n",
    "print(0x3c3c3c3c)\n",
    "dfs(0, 0x3c3c3c3c)\n"
   ]
  },
  {
   "cell_type": "code",
   "execution_count": null,
   "metadata": {},
   "outputs": [],
   "source": [
    "import sys\n",
    "# input = sys.stdin.readline\n",
    "sys.setrecursionlimit(10**6)\n",
    "def bitree(st,end):\n",
    "    if st >= end: \n",
    "        return \n",
    "    div_p=end\n",
    "    for i in range(st+1,end):\n",
    "        if b[st] < b[i]:\n",
    "            div_p=i\n",
    "            break\n",
    "    bitree(st+1,div_p)\n",
    "    bitree(div_p,end)\n",
    "    print(b[st])\n",
    "\n",
    "b=[i for i in range(10,0,-1)]\n",
    "# b=[50,30,24,5,28,45,98,52,60]\n",
    "\n",
    "# while True:\n",
    "#     try :\n",
    "#         b+=[int(input())]\n",
    "#     except :\n",
    "#         break\n",
    "\n",
    "bitree(0,len(b))\n",
    "    "
   ]
  },
  {
   "cell_type": "code",
   "execution_count": 9,
   "metadata": {},
   "outputs": [
    {
     "name": "stdout",
     "output_type": "stream",
     "text": [
      "5\n",
      "24\n",
      "45\n",
      "30\n",
      "60\n",
      "52\n",
      "98\n",
      "50\n"
     ]
    }
   ],
   "source": [
    "# import sys\n",
    "# input = sys.stdin.readline\n",
    "def bitree(st,end):\n",
    "    global l\n",
    "    if st >= end: \n",
    "        return \n",
    "    div_p=end\n",
    "    for i in range(st+1,end):\n",
    "        if b[st] < b[i]:\n",
    "            div_p=i\n",
    "            break\n",
    "    if st+1 != div_p:\n",
    "        bitree(st+1,div_p)\n",
    "    if div_p != end:\n",
    "        bitree(div_p,end)\n",
    "    print(b[st])\n",
    "\n",
    "# b=[i for i in range(3000,0,-1)]\n",
    "b=[50,30,24,5,28,45,98,52,60]\n",
    "\n",
    "# while True:\n",
    "#     try :\n",
    "#         b+=[int(input())]\n",
    "#     except :\n",
    "#         break\n",
    "\n",
    "l=[]\n",
    "bitree(0,len(b))\n",
    "    "
   ]
  },
  {
   "cell_type": "code",
   "execution_count": null,
   "metadata": {},
   "outputs": [],
   "source": [
    "# import sys\n",
    "# input = sys.stdin.readline\n",
    "def bitree(st,end):\n",
    "    global l\n",
    "    if st == end-1: return [str(b[st])]\n",
    "    elif st> end-1: return []\n",
    "    \n",
    "    chk=0\n",
    "    for i in range(st+1,end):\n",
    "        if b[st] < b[i]:\n",
    "            chk=1\n",
    "            l += bitree(st+1,i)\n",
    "            l += bitree(i,end)  \n",
    "            break\n",
    "    if chk ==0:\n",
    "#         print(st)\n",
    "        l += bitree(st+1,end)\n",
    "    return [str(b[st])]\n",
    "\n",
    "b=[i for i in range(2970)]\n",
    "\n",
    "# while True:\n",
    "#     try :\n",
    "#         b+=[int(input())]\n",
    "#     except :\n",
    "#         break\n",
    "\n",
    "l=[]\n",
    "l += bitree(0,len(b))\n",
    "print('\\n'.join(l))\n",
    "    "
   ]
  },
  {
   "cell_type": "code",
   "execution_count": null,
   "metadata": {
    "scrolled": true
   },
   "outputs": [],
   "source": [
    "# 노드 수 2961까지만 돌아감,, 왜 그럴까?\n",
    "\n",
    "# import sys\n",
    "# input = sys.stdin.readline\n",
    "\n",
    "def bitree(st,end):\n",
    "    global l\n",
    "    if st == end-1: return [str(b[st])]\n",
    "    elif st> end-1: return []\n",
    "    \n",
    "    chk=0\n",
    "    for i in range(st+1,end):\n",
    "        if b[st] < b[i]:\n",
    "            chk=1\n",
    "            if st+1 != i:\n",
    "                l += bitree(st+1,i)\n",
    "            l += bitree(i,end)  \n",
    "            break\n",
    "    if chk ==0:\n",
    "#         print(st)\n",
    "        l += bitree(st+1,end)\n",
    "    return [str(b[st])]\n",
    "\n",
    "b=[i for i in range(2970)]\n",
    "\n",
    "# while True:\n",
    "#     try :\n",
    "#         b+=[int(input())]\n",
    "#     except :\n",
    "#         break\n",
    "\n",
    "l=[]\n",
    "l += bitree(0,len(b))\n",
    "print('\\n'.join(l))\n",
    "    "
   ]
  },
  {
   "cell_type": "code",
   "execution_count": null,
   "metadata": {},
   "outputs": [],
   "source": [
    "50\n",
    "30\n",
    "24\n",
    "5\n",
    "28\n",
    "45\n",
    "98\n",
    "52\n",
    "60\n",
    "\n",
    "\n",
    "5\n",
    "28\n",
    "24\n",
    "45\n",
    "30\n",
    "60\n",
    "52\n",
    "98\n",
    "50"
   ]
  },
  {
   "cell_type": "code",
   "execution_count": null,
   "metadata": {},
   "outputs": [],
   "source": [
    "\n",
    "    "
   ]
  },
  {
   "cell_type": "code",
   "execution_count": null,
   "metadata": {
    "scrolled": true
   },
   "outputs": [],
   "source": [
    "def solution(start, end):\n",
    "    if start > end:\n",
    "        return\n",
    "\n",
    "    div = end + 1\n",
    "\n",
    "    for i in range(start + 1, end + 1):\n",
    "        # 루트 보다 큰 지점 --> 오른쪽 서브 트리\n",
    "        if tree[start] < tree[i]:\n",
    "            div = i\n",
    "            break\n",
    "\n",
    "    solution(start + 1, div - 1)\n",
    "    solution(div, end)\n",
    "    print(tree[start])\n",
    "\n",
    "\n",
    "# import sys\n",
    "# sys.setrecursionlimit(10 ** 9)\n",
    "\n",
    "# tree = []\n",
    "# count = 0\n",
    "# while count <= 10000:\n",
    "\n",
    "#     try:\n",
    "#         temp = int(input())\n",
    "#     except:\n",
    "#         break\n",
    "#     tree.append(temp)\n",
    "#     count += 1\n",
    "tree = [50,30,24,5,28,45,98,52,60]\n",
    "solution(0, len(tree) - 1)\n"
   ]
  },
  {
   "cell_type": "code",
   "execution_count": null,
   "metadata": {},
   "outputs": [],
   "source": [
    "def BiTree(st,end):\n",
    "    if st>end:\n",
    "        return\n",
    "    d=end+1 #초기화\n",
    "    for i in range(st+1, end+1):\n",
    "        if t[st] < t[i]:\n",
    "            d=i \n",
    "            break\n",
    "    BiTree(st+1,d-1)\n",
    "    BiTree(d,end)\n",
    "    print(t[st])\n",
    "\n",
    "import sys\n",
    "t=[]\n",
    "while True :\n",
    "    i=int(sys.stdin.readline())\n",
    "    if not i: break\n",
    "    t+=i\n",
    "BiTree(0,len(t)-1)"
   ]
  }
 ],
 "metadata": {
  "kernelspec": {
   "display_name": "Python 3",
   "language": "python",
   "name": "python3"
  },
  "language_info": {
   "codemirror_mode": {
    "name": "ipython",
    "version": 3
   },
   "file_extension": ".py",
   "mimetype": "text/x-python",
   "name": "python",
   "nbconvert_exporter": "python",
   "pygments_lexer": "ipython3",
   "version": "3.8.1"
  }
 },
 "nbformat": 4,
 "nbformat_minor": 4
}
