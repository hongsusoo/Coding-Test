{
 "cells": [
  {
   "cell_type": "code",
   "execution_count": 192,
   "metadata": {},
   "outputs": [],
   "source": [
    "k=sys.stdin.readline()"
   ]
  },
  {
   "cell_type": "code",
   "execution_count": 190,
   "metadata": {
    "scrolled": true
   },
   "outputs": [
    {
     "ename": "ValueError",
     "evalue": "invalid literal for int() with base 10: ''",
     "output_type": "error",
     "traceback": [
      "\u001b[1;31m---------------------------------------------------------------------------\u001b[0m",
      "\u001b[1;31mValueError\u001b[0m                                Traceback (most recent call last)",
      "\u001b[1;32m<ipython-input-190-757e1bc41d30>\u001b[0m in \u001b[0;36m<module>\u001b[1;34m\u001b[0m\n\u001b[0;32m      2\u001b[0m \u001b[1;32mimport\u001b[0m \u001b[0msys\u001b[0m\u001b[1;33m\u001b[0m\u001b[1;33m\u001b[0m\u001b[0m\n\u001b[0;32m      3\u001b[0m \u001b[1;33m\u001b[0m\u001b[0m\n\u001b[1;32m----> 4\u001b[1;33m \u001b[0mk\u001b[0m\u001b[1;33m=\u001b[0m\u001b[0mint\u001b[0m\u001b[1;33m(\u001b[0m\u001b[0msys\u001b[0m\u001b[1;33m.\u001b[0m\u001b[0mstdin\u001b[0m\u001b[1;33m.\u001b[0m\u001b[0mreadline\u001b[0m\u001b[1;33m(\u001b[0m\u001b[1;33m)\u001b[0m\u001b[1;33m)\u001b[0m\u001b[1;33m\u001b[0m\u001b[1;33m\u001b[0m\u001b[0m\n\u001b[0m\u001b[0;32m      5\u001b[0m \u001b[0mM\u001b[0m\u001b[1;33m,\u001b[0m\u001b[0mN\u001b[0m\u001b[1;33m=\u001b[0m\u001b[0mmap\u001b[0m\u001b[1;33m(\u001b[0m\u001b[0mint\u001b[0m\u001b[1;33m,\u001b[0m\u001b[0msys\u001b[0m\u001b[1;33m.\u001b[0m\u001b[0mstdin\u001b[0m\u001b[1;33m.\u001b[0m\u001b[0mreadline\u001b[0m\u001b[1;33m(\u001b[0m\u001b[1;33m)\u001b[0m\u001b[1;33m.\u001b[0m\u001b[0msplit\u001b[0m\u001b[1;33m(\u001b[0m\u001b[1;33m)\u001b[0m\u001b[1;33m)\u001b[0m\u001b[1;33m\u001b[0m\u001b[1;33m\u001b[0m\u001b[0m\n\u001b[0;32m      6\u001b[0m \u001b[0marr\u001b[0m\u001b[1;33m=\u001b[0m\u001b[1;33m[\u001b[0m\u001b[0mlist\u001b[0m\u001b[1;33m(\u001b[0m\u001b[0mmap\u001b[0m\u001b[1;33m(\u001b[0m\u001b[0mint\u001b[0m\u001b[1;33m,\u001b[0m\u001b[0msys\u001b[0m\u001b[1;33m.\u001b[0m\u001b[0mstdin\u001b[0m\u001b[1;33m.\u001b[0m\u001b[0mreadline\u001b[0m\u001b[1;33m(\u001b[0m\u001b[1;33m)\u001b[0m\u001b[1;33m.\u001b[0m\u001b[0msplit\u001b[0m\u001b[1;33m(\u001b[0m\u001b[1;33m)\u001b[0m\u001b[1;33m)\u001b[0m\u001b[1;33m)\u001b[0m \u001b[1;32mfor\u001b[0m \u001b[0m_\u001b[0m \u001b[1;32min\u001b[0m \u001b[0mrange\u001b[0m\u001b[1;33m(\u001b[0m\u001b[0mN\u001b[0m\u001b[1;33m)\u001b[0m\u001b[1;33m]\u001b[0m\u001b[1;33m\u001b[0m\u001b[1;33m\u001b[0m\u001b[0m\n",
      "\u001b[1;31mValueError\u001b[0m: invalid literal for int() with base 10: ''"
     ]
    }
   ],
   "source": [
    "from collections import deque\n",
    "import sys\n",
    "\n",
    "k=int(sys.stdin.readline())\n",
    "M,N=map(int,sys.stdin.readline().split())\n",
    "arr=[list(map(int,sys.stdin.readline().split())) for _ in range(N)]\n",
    "\n",
    "m_dx = [0,1,0,-1]  #원숭이가 움직일 수 있는 방향\n",
    "m_dy = [1,0,-1,0]\n",
    "\n",
    "h_dx = [2,1,-2,-1,2,1,-2,-1] #말이 움직일 수 있는 방향\n",
    "h_dy = [1,2,1,2,-1,-2,-1,-2]\n",
    "\n",
    "v=[[[-1]*(k+1) for _ in range(M)] for _ in range(N)]\n",
    "v[0][0][k] = 1\n",
    "q=deque()\n",
    "q.append((0,0,0,k)) #n : 위치에서 이동 횟수, (x,y) : 현 위치, k : 말처럼 이동할 수 있는 횟수 \n",
    "\n",
    "# 혹시,, 최소 n이 아닐 수도 있으니 문제 생기면 이부분 확인 필요함! => BFS이기 때문에 그럴 가능성 없을것\n",
    "\n",
    "while q:\n",
    "    n,x,y,k = q.popleft()\n",
    "\n",
    "    if x==M-1 and y==N-1: # 끝내는 조건\n",
    "        print(n);\n",
    "        break\n",
    "        \n",
    "    #원숭이 움직임 +1\n",
    "    for i in range(4):\n",
    "        xx,yy =x+m_dx[i],y+m_dy[i] \n",
    "        if 0<=xx<M and 0<=yy<N :\n",
    "            if arr[yy][xx]!=1:\n",
    "                if v[yy][xx][k] == -1:\n",
    "                    v[yy][xx][k] = 1 #k 가 일괄적으로 들어가 있어서 k를 사용한 후 처음들어가는 좌표에 대한 k값이 update가 안되었음\n",
    "                    q.append((n+1,xx,yy,k))\n",
    "                    \n",
    "    #말 움직임 +1\n",
    "    if k>=1:\n",
    "        for i in range(8):\n",
    "            xx,yy =x+h_dx[i],y+h_dy[i]\n",
    "            if 0<=xx<M and 0<=yy<N :\n",
    "                if arr[yy][xx]!=1:\n",
    "                    if v[yy][xx][k-1] == -1:\n",
    "                        v[yy][xx][k-1] = 1\n",
    "                        q.append((n+1,xx,yy,k-1))\n",
    "\n",
    "else : print(-1)"
   ]
  },
  {
   "cell_type": "code",
   "execution_count": 186,
   "metadata": {},
   "outputs": [
    {
     "ename": "ValueError",
     "evalue": "invalid literal for int() with base 10: ''",
     "output_type": "error",
     "traceback": [
      "\u001b[1;31m---------------------------------------------------------------------------\u001b[0m",
      "\u001b[1;31mValueError\u001b[0m                                Traceback (most recent call last)",
      "\u001b[1;32m<ipython-input-186-9d170fb6ccfb>\u001b[0m in \u001b[0;36m<module>\u001b[1;34m\u001b[0m\n\u001b[0;32m      1\u001b[0m \u001b[1;32mfrom\u001b[0m \u001b[0mcollections\u001b[0m \u001b[1;32mimport\u001b[0m \u001b[0mdeque\u001b[0m\u001b[1;33m\u001b[0m\u001b[1;33m\u001b[0m\u001b[0m\n\u001b[0;32m      2\u001b[0m \u001b[1;33m\u001b[0m\u001b[0m\n\u001b[1;32m----> 3\u001b[1;33m \u001b[0mk\u001b[0m\u001b[1;33m=\u001b[0m\u001b[0mint\u001b[0m\u001b[1;33m(\u001b[0m\u001b[0minput\u001b[0m\u001b[1;33m(\u001b[0m\u001b[1;33m)\u001b[0m\u001b[1;33m)\u001b[0m\u001b[1;33m\u001b[0m\u001b[1;33m\u001b[0m\u001b[0m\n\u001b[0m\u001b[0;32m      4\u001b[0m \u001b[0mM\u001b[0m\u001b[1;33m,\u001b[0m\u001b[0mN\u001b[0m\u001b[1;33m=\u001b[0m\u001b[0mmap\u001b[0m\u001b[1;33m(\u001b[0m\u001b[0mint\u001b[0m\u001b[1;33m,\u001b[0m\u001b[0minput\u001b[0m\u001b[1;33m(\u001b[0m\u001b[1;33m)\u001b[0m\u001b[1;33m.\u001b[0m\u001b[0msplit\u001b[0m\u001b[1;33m(\u001b[0m\u001b[1;33m)\u001b[0m\u001b[1;33m)\u001b[0m\u001b[1;33m\u001b[0m\u001b[1;33m\u001b[0m\u001b[0m\n\u001b[0;32m      5\u001b[0m \u001b[0marr\u001b[0m\u001b[1;33m=\u001b[0m\u001b[1;33m[\u001b[0m\u001b[0mlist\u001b[0m\u001b[1;33m(\u001b[0m\u001b[0mmap\u001b[0m\u001b[1;33m(\u001b[0m\u001b[0mint\u001b[0m\u001b[1;33m,\u001b[0m\u001b[0minput\u001b[0m\u001b[1;33m(\u001b[0m\u001b[1;33m)\u001b[0m\u001b[1;33m.\u001b[0m\u001b[0msplit\u001b[0m\u001b[1;33m(\u001b[0m\u001b[1;33m)\u001b[0m\u001b[1;33m)\u001b[0m\u001b[1;33m)\u001b[0m \u001b[1;32mfor\u001b[0m \u001b[0m_\u001b[0m \u001b[1;32min\u001b[0m \u001b[0mrange\u001b[0m\u001b[1;33m(\u001b[0m\u001b[0mN\u001b[0m\u001b[1;33m)\u001b[0m\u001b[1;33m]\u001b[0m\u001b[1;33m\u001b[0m\u001b[1;33m\u001b[0m\u001b[0m\n",
      "\u001b[1;31mValueError\u001b[0m: invalid literal for int() with base 10: ''"
     ]
    }
   ],
   "source": [
    "from collections import deque\n",
    "\n",
    "k=int(input())\n",
    "M,N=map(int,input().split())\n",
    "arr=[list(map(int,input().split())) for _ in range(N)]\n",
    "    \n",
    "dv=[(0,1),(1,0),(0,-1),(-1,0)] #원숭이가 움직일 수 있는 방향\n",
    "dk=[(2,1),(1,2),(-2,1),(-1,2),(2,-1),(1,-2),(-2,-1),(-1,-2)] #말이 움직일 수 있는 방향\n",
    "\n",
    "v=[[[-1 for _ in range(k+1)] for _ in range(M)] for _ in range(N)]\n",
    "v[0][0][k] = 1\n",
    "q=deque()\n",
    "q.append((0,0,k)) #(x,y) : 현 위치, k : 말처럼 이동할 수 있는 횟수 \n",
    "# 혹시,, 최소 n이 아닐 수도 있으니 문제 생기면 이부분 확인 필요함! => BFS이기 때문에 그럴 가능성 없을것\n",
    "\n",
    "while q:\n",
    "    x,y,k = q.popleft()\n",
    "    n=v[y][x][k]\n",
    "    \n",
    "    if x==M-1 and y==N-1: # 끝내는 조건\n",
    "        print(n);\n",
    "        break\n",
    "        \n",
    "    #원숭이 움직임 +1\n",
    "    for i in dv:\n",
    "        xx,yy =x+i[0],y+i[1] \n",
    "        if 0<=xx<M and 0<=yy<N :\n",
    "            if arr[yy][xx]!=1:\n",
    "                if v[yy][xx][k] == -1:\n",
    "                    v[yy][xx][k] = n+1 #k 가 일괄적으로 들어가 있어서 k를 사용한 후 처음들어가는 좌표에 대한 k값이 update가 안되었음\n",
    "                    q.append((xx,yy,k))\n",
    "                    \n",
    "    #말 움직임 +1\n",
    "    if k>=1:\n",
    "        for i in dk:\n",
    "            xx,yy =x+i[0],y+i[1]\n",
    "            if 0<=xx<M and 0<=yy<N :\n",
    "                if arr[yy][xx]!=1:\n",
    "                    if v[yy][xx][k-1] == -1:\n",
    "                        v[yy][xx][k-1] = n+1\n",
    "                        q.append((xx,yy,k-1))\n",
    "\n",
    "else : print(-1)"
   ]
  },
  {
   "cell_type": "code",
   "execution_count": 165,
   "metadata": {},
   "outputs": [
    {
     "name": "stdout",
     "output_type": "stream",
     "text": [
      "[[[2, 99], [2, 0], [2, 0], [2, 0], [2, 0]], [[2, 0], [2, 0], [2, 0], [2, 0], [2, 0]], [[2, 0], [2, 0], [2, 0], [2, 0], [2, 0]], [[2, 0], [2, 0], [2, 0], [2, 0], [2, 0]], [[2, 0], [2, 0], [2, 0], [2, 0], [2, 0]]]\n"
     ]
    }
   ],
   "source": [
    "M,N,k= 5,5,2\n",
    "v=[[[k,0] for _ in range(M)] for _ in range(N)]\n",
    "v[0][0]=[k,1]\n",
    "v[0][0][1]=99\n",
    "print(v)"
   ]
  },
  {
   "cell_type": "code",
   "execution_count": 187,
   "metadata": {
    "scrolled": false
   },
   "outputs": [
    {
     "ename": "ValueError",
     "evalue": "invalid literal for int() with base 10: ''",
     "output_type": "error",
     "traceback": [
      "\u001b[1;31m---------------------------------------------------------------------------\u001b[0m",
      "\u001b[1;31mValueError\u001b[0m                                Traceback (most recent call last)",
      "\u001b[1;32m<ipython-input-187-0618e109506a>\u001b[0m in \u001b[0;36m<module>\u001b[1;34m\u001b[0m\n\u001b[0;32m      1\u001b[0m \u001b[1;32mfrom\u001b[0m \u001b[0mcollections\u001b[0m \u001b[1;32mimport\u001b[0m \u001b[0mdeque\u001b[0m\u001b[1;33m\u001b[0m\u001b[1;33m\u001b[0m\u001b[0m\n\u001b[0;32m      2\u001b[0m \u001b[1;33m\u001b[0m\u001b[0m\n\u001b[1;32m----> 3\u001b[1;33m \u001b[0mk\u001b[0m\u001b[1;33m=\u001b[0m\u001b[0mint\u001b[0m\u001b[1;33m(\u001b[0m\u001b[0minput\u001b[0m\u001b[1;33m(\u001b[0m\u001b[1;33m)\u001b[0m\u001b[1;33m)\u001b[0m\u001b[1;33m\u001b[0m\u001b[1;33m\u001b[0m\u001b[0m\n\u001b[0m\u001b[0;32m      4\u001b[0m \u001b[0mM\u001b[0m\u001b[1;33m,\u001b[0m\u001b[0mN\u001b[0m\u001b[1;33m=\u001b[0m\u001b[0mmap\u001b[0m\u001b[1;33m(\u001b[0m\u001b[0mint\u001b[0m\u001b[1;33m,\u001b[0m\u001b[0minput\u001b[0m\u001b[1;33m(\u001b[0m\u001b[1;33m)\u001b[0m\u001b[1;33m.\u001b[0m\u001b[0msplit\u001b[0m\u001b[1;33m(\u001b[0m\u001b[1;33m)\u001b[0m\u001b[1;33m)\u001b[0m\u001b[1;33m\u001b[0m\u001b[1;33m\u001b[0m\u001b[0m\n\u001b[0;32m      5\u001b[0m \u001b[0marr\u001b[0m\u001b[1;33m=\u001b[0m\u001b[1;33m[\u001b[0m\u001b[0mlist\u001b[0m\u001b[1;33m(\u001b[0m\u001b[0mmap\u001b[0m\u001b[1;33m(\u001b[0m\u001b[0mint\u001b[0m\u001b[1;33m,\u001b[0m\u001b[0minput\u001b[0m\u001b[1;33m(\u001b[0m\u001b[1;33m)\u001b[0m\u001b[1;33m.\u001b[0m\u001b[0msplit\u001b[0m\u001b[1;33m(\u001b[0m\u001b[1;33m)\u001b[0m\u001b[1;33m)\u001b[0m\u001b[1;33m)\u001b[0m \u001b[1;32mfor\u001b[0m \u001b[0m_\u001b[0m \u001b[1;32min\u001b[0m \u001b[0mrange\u001b[0m\u001b[1;33m(\u001b[0m\u001b[0mN\u001b[0m\u001b[1;33m)\u001b[0m\u001b[1;33m]\u001b[0m\u001b[1;33m\u001b[0m\u001b[1;33m\u001b[0m\u001b[0m\n",
      "\u001b[1;31mValueError\u001b[0m: invalid literal for int() with base 10: ''"
     ]
    }
   ],
   "source": [
    "from collections import deque\n",
    "\n",
    "k=int(input())\n",
    "M,N=map(int,input().split())\n",
    "arr=[list(map(int,input().split())) for _ in range(N)]\n",
    "\n",
    "\n",
    "dv=[(0,1),(1,0),(0,-1),(-1,0)] #원숭이가 움직일 수 있는 방향\n",
    "dk=[(2,1),(1,2),(-2,1),(-1,2),(2,-1),(1,-2),(-2,-1),(-1,-2)] #말이 움직일 수 있는 방향\n",
    "\n",
    "v=[[[k,0] for _ in range(M)] for _ in range(N)]\n",
    "v[0][0]=[k,1]\n",
    "q=deque()\n",
    "n=0\n",
    "q.append((0,0,0,k)) # n : 이동 횟수, (x,y) : 현 위치, k : 말처럼 이동할 수 있는 횟수 \n",
    "\n",
    "# 혹시,, 최소 n이 아닐 수도 있으니 문제 생기면 이부분 확인 필요함! => BFS이기 때문에 그럴 가능성 없을것\n",
    "while q:\n",
    "    n,x,y,k = q.popleft()\n",
    "    if x==M-1 and y==N-1: # 끝내는 조건\n",
    "        print(n);\n",
    "        break\n",
    "        \n",
    "    #원숭이 움직임 +1\n",
    "    for i in dv:\n",
    "        xx,yy =x+i[0],y+i[1] \n",
    "        if 0<=xx<M and 0<=yy<N :\n",
    "            if arr[yy][xx]!=1:\n",
    "                if v[yy][xx][1]==0:\n",
    "                    v[yy][xx]=[k,1] #k 가 일괄적으로 들어가 있어서 k를 사용한 후 처음들어가는 좌표에 대한 k값이 update가 안되었음\n",
    "                    q.append((n+1,xx,yy,k))\n",
    "                elif v[yy][xx][1]==1 and k > v[yy][xx][0]:\n",
    "                    v[yy][xx][0]=k\n",
    "                    q.append((n+1,xx,yy,k))\n",
    "                \n",
    "    #말 움직임 +1\n",
    "    if k>=1:\n",
    "        for i in dk:\n",
    "            xx,yy =x+i[0],y+i[1]\n",
    "            if 0<=xx<M and 0<=yy<N :\n",
    "                if arr[yy][xx]!=1:\n",
    "                    if v[yy][xx][1]==0:\n",
    "                        v[yy][xx][1]=1\n",
    "                        v[yy][xx][0]=k-1\n",
    "                        q.append((n+1,xx,yy,k-1))\n",
    "                    elif v[yy][xx][1]==1 and k-1 > v[yy][xx][0]:\n",
    "                        v[yy][xx][0]=k-1\n",
    "                        q.append((n+1,xx,yy,k-1))\n",
    "else : print(-1)"
   ]
  },
  {
   "cell_type": "code",
   "execution_count": null,
   "metadata": {},
   "outputs": [],
   "source": [
    "0 0 0 0 1\n",
    "0 0 1 0 1\n",
    "0 0 1 0 1\n",
    "0 0 1 0 1\n",
    "0 0 1 0 0"
   ]
  },
  {
   "cell_type": "code",
   "execution_count": 135,
   "metadata": {},
   "outputs": [
    {
     "name": "stdout",
     "output_type": "stream",
     "text": [
      "deque([(0, 0, 0, 1)])\n",
      "deque([(1, 0, 1, 1), (1, 1, 0, 1), (1, 2, 1, 0), (1, 1, 2, 0)])\n",
      "deque([(1, 1, 0, 1), (1, 2, 1, 0), (1, 1, 2, 0), (2, 0, 2, 1), (2, 1, 1, 1), (2, 2, 0, 0)])\n",
      "deque([(1, 2, 1, 0), (1, 1, 2, 0), (2, 0, 2, 1), (2, 1, 1, 1), (2, 2, 0, 0)])\n",
      "deque([(1, 1, 2, 0), (2, 0, 2, 1), (2, 1, 1, 1), (2, 2, 0, 0)])\n",
      "deque([(2, 0, 2, 1), (2, 1, 1, 1), (2, 2, 0, 0)])\n",
      "deque([(2, 1, 1, 1), (2, 2, 0, 0), (3, 0, 3, 1), (3, 2, 3, 0), (3, 1, 4, 0)])\n",
      "deque([(2, 2, 0, 0), (3, 0, 3, 1), (3, 2, 3, 0), (3, 1, 4, 0), (3, 3, 2, 0), (3, 3, 0, 0)])\n",
      "deque([(3, 0, 3, 1), (3, 2, 3, 0), (3, 1, 4, 0), (3, 3, 2, 0), (3, 3, 0, 0)])\n",
      "deque([(3, 2, 3, 0), (3, 1, 4, 0), (3, 3, 2, 0), (3, 3, 0, 0), (4, 2, 4, 0)])\n",
      "deque([(3, 1, 4, 0), (3, 3, 2, 0), (3, 3, 0, 0), (4, 2, 4, 0), (4, 3, 3, 0)])\n",
      "deque([(3, 3, 2, 0), (3, 3, 0, 0), (4, 2, 4, 0), (4, 3, 3, 0)])\n",
      "deque([(3, 3, 0, 0), (4, 2, 4, 0), (4, 3, 3, 0), (4, 4, 2, 0)])\n",
      "deque([(4, 2, 4, 0), (4, 3, 3, 0), (4, 4, 2, 0)])\n",
      "deque([(4, 3, 3, 0), (4, 4, 2, 0), (5, 3, 4, 0)])\n",
      "deque([(4, 4, 2, 0), (5, 3, 4, 0), (5, 4, 3, 0)])\n",
      "deque([(5, 3, 4, 0), (5, 4, 3, 0), (5, 4, 1, 0)])\n",
      "deque([(5, 4, 3, 0), (5, 4, 1, 0), (6, 4, 4, 0)])\n",
      "deque([(5, 4, 1, 0), (6, 4, 4, 0)])\n",
      "deque([(6, 4, 4, 0)])\n",
      "6\n"
     ]
    }
   ],
   "source": [
    "from collections import deque\n",
    "\n",
    "# k=int(input())\n",
    "# M,N=map(int,input().split())\n",
    "# arr=[list(map(int,input().split())) for _ in range(N)]\n",
    "\n",
    "k=1\n",
    "M,N=5, 5\n",
    "arr=[[0, 0, 0, 0, 1],[0, 0, 0, 1, 0],[0, 0, 1, 0, 0],[0, 1, 0, 0, 0],[1, 0, 0, 0, 0]]\n",
    "\n",
    "# M,N=4, 4\n",
    "# arr=[[0, 1, 0, 0],[0, 0, 1 ,0],[0, 0, 1, 0],[0, 0, 1, 0]]\n",
    "\n",
    "dv=[(0,1),(1,0),(0,-1),(-1,0)]#원숭이가 움직일 수 있는 방향\n",
    "dk=[(2,1),(1,2),(-2,1),(-1,2),(2,-1),(1,-2),(-2,-1),(-1,-2)] #말이 움직일 수 있는 방향\n",
    "\n",
    "v=[[[k,0] for _ in range(M)] for _ in range(N)]\n",
    "v[0][0]=(k,1)\n",
    "q=deque()\n",
    "n=0\n",
    "q.append((0,0,0,k)) # n : 이동 횟수, (x,y) : 현 위치, k : 말처럼 이동할 수 있는 횟수 \n",
    "\n",
    "# 혹시,, 최소 n이 아닐 수도 있으니 문제 생기면 이부분 확인 필요함! => BFS이기 때문에 그럴 가능성 없을것\n",
    "# 이전 K보다 현재 k가 클경우\n",
    "\n",
    "while q:\n",
    "    print(q)\n",
    "    n,x,y,k = q.popleft()\n",
    "    if x==M-1 and y==N-1: # 끝내는 조건\n",
    "        print(n);\n",
    "        break\n",
    "        \n",
    "    #원숭이 움직임 +1\n",
    "    for i in dv:\n",
    "        xx,yy =x+i[0],y+i[1]\n",
    "        if 0<=xx<M and 0<=yy<N :\n",
    "            if arr[yy][xx]!=1 and v[yy][xx][1]==0:\n",
    "                v[yy][xx][1]=1\n",
    "                q.append((n+1,xx,yy,k))\n",
    "            elif v[yy][xx][1]==1 and k>v[yy][xx][0]:\n",
    "                q.append((n+1,xx,yy,k))\n",
    "                \n",
    "            \n",
    "    #말 움직임 +1\n",
    "    if k>=1:\n",
    "        for i in dk:\n",
    "            xx,yy =x+i[0],y+i[1]\n",
    "            if 0<=xx<M and 0<=yy<N :\n",
    "                if arr[yy][xx]!=1 and v[yy][xx][1]==0:\n",
    "                    v[yy][xx][1]=1\n",
    "                    q.append((n+1,xx,yy,k-1))\n",
    "else : print(-1)"
   ]
  },
  {
   "cell_type": "code",
   "execution_count": 128,
   "metadata": {},
   "outputs": [
    {
     "name": "stdout",
     "output_type": "stream",
     "text": [
      "1\n",
      "1 1\n",
      "0\n",
      "0\n"
     ]
    }
   ],
   "source": [
    "from collections import deque\n",
    "\n",
    "k=int(input())\n",
    "M,N=map(int,input().split())\n",
    "arr=[list(map(int,input().split())) for _ in range(N)]\n",
    "\n",
    "dv=[(0,1),(1,0),(0,-1),(-1,0)]#원숭이가 움직일 수 있는 방향\n",
    "dk=[(2,1),(1,2),(-2,1),(-1,2),(2,-1),(1,-2),(-2,-1),(-1,-2)] #말이 움직일 수 있는 방향\n",
    "v=[[[0 for _ in range(k+1)] for _ in range(M)] for _ in range(N)]\n",
    "v[0][0][k]=1\n",
    "q=deque()\n",
    "n=0\n",
    "q.append((0,0,0,k)) # n : 이동 횟수, (x,y) : 현 위치, k : 말처럼 이동할 수 있는 횟수 \n",
    "\n",
    "# 혹시,, 최소 n이 아닐 수도 있으니 문제 생기면 이부분 확인 필요함!\n",
    "while q:\n",
    "    n,x,y,k = q.popleft()\n",
    "    if x==M-1 and y==N-1: # 끝내는 조건\n",
    "        print(n);\n",
    "        break\n",
    "        \n",
    "    #원숭이 움직임 +1\n",
    "    for i in dv:\n",
    "        xx,yy =x+i[0],y+i[1]\n",
    "        if 0<=xx<M and 0<=yy<N :\n",
    "            if arr[yy][xx]!=1 and v[yy][xx][k]==0:\n",
    "                v[yy][xx][k]=1\n",
    "                q.append((n+1,xx,yy,k))\n",
    "            \n",
    "    #말 움직임 +1\n",
    "    if k>=1:\n",
    "        for i in dk:\n",
    "            xx,yy =x+i[0],y+i[1]\n",
    "            if 0<=xx<M and 0<=yy<N :\n",
    "                if arr[yy][xx]!=1 and v[yy][xx][k-1]==0:\n",
    "                    v[yy][xx][k-1]=1\n",
    "                    q.append((n+1,xx,yy,k-1))\n",
    "else : print(-1)"
   ]
  },
  {
   "cell_type": "code",
   "execution_count": 113,
   "metadata": {},
   "outputs": [
    {
     "name": "stdout",
     "output_type": "stream",
     "text": [
      "[[[0, 0], [0, 0], [0, 0]], [[0, 0], [0, 0], [1, 1]], [[0, 0], [0, 0], [0, 0]], [[0, 0], [0, 0], [0, 0]], [[0, 0], [0, 0], [0, 0]]]\n"
     ]
    }
   ],
   "source": [
    "m,n,k = 5,3,1\n",
    "\n",
    "v=[[[0 for _ in range(k+1)] for _ in range(n)] for _ in range(m)]\n",
    "v[1][2][0]=1\n",
    "v[1][2][1]=1\n",
    "print(v)"
   ]
  },
  {
   "cell_type": "code",
   "execution_count": 108,
   "metadata": {},
   "outputs": [
    {
     "name": "stdout",
     "output_type": "stream",
     "text": [
      "1\n",
      "5 5\n",
      "0 0 0 0 1\n",
      "0 0 1 0 1\n",
      "0 0 1 0 1\n",
      "0 0 1 0 1\n",
      "0 0 1 0 0\n",
      "6\n"
     ]
    }
   ],
   "source": [
    "from collections import deque\n",
    "\n",
    "k=int(input())\n",
    "M,N=map(int,input().split())\n",
    "arr=[list(map(int,input().split())) for _ in range(N)]\n",
    "\n",
    "dv=[(0,1),(1,0),(0,-1),(-1,0)]#원숭이가 움직일 수 있는 방향\n",
    "dk=[(2,1),(1,2),(-2,1),(-1,2),(2,-1),(1,-2),(-2,-1),(-1,-2)] #말이 움직일 수 있는 방향\n",
    "s=set()\n",
    "q=deque()\n",
    "n=0\n",
    "q.append((0,0,0,k)) # n : 이동 횟수, (x,y) : 현 위치, k : 말처럼 이동할 수 있는 횟수 \n",
    "\n",
    "# 혹시,, 최소 n이 아닐 수도 있으니 문제 생기면 이부분 확인 필요함!\n",
    "while q:\n",
    "    n,x,y,k = q.popleft()\n",
    "    if x==M-1 and y==N-1: # 끝내는 조건\n",
    "        print(n);\n",
    "        break\n",
    "        \n",
    "    #원숭이 움직임 +1\n",
    "    for i in dv:\n",
    "        xx,yy =x+i[0],y+i[1]\n",
    "        if (xx,yy,k) not in s and 0<=xx<M and 0<=yy<N :\n",
    "            if arr[yy][xx]!=1 :\n",
    "                s.add((xx,yy,k))\n",
    "                q.append((n+1,xx,yy,k))\n",
    "            \n",
    "    #말 움직임 +1\n",
    "    if k!=0:\n",
    "        for i in dk:\n",
    "            xx,yy =x+i[0],y+i[1]\n",
    "            if (xx,yy,k) not in s and 0<=xx<M and 0<=yy<N :\n",
    "                if arr[yy][xx]!=1 :\n",
    "                    s.add((xx,yy,k-1))\n",
    "                    q.append((n+1,xx,yy,k-1))\n",
    "else : print(-1)"
   ]
  },
  {
   "cell_type": "code",
   "execution_count": null,
   "metadata": {},
   "outputs": [],
   "source": [
    "0 0 0 0 1\n",
    "0 0 1 0 1\n",
    "0 0 1 0 1\n",
    "0 0 1 0 1\n",
    "0 0 1 0 0"
   ]
  },
  {
   "cell_type": "code",
   "execution_count": 105,
   "metadata": {},
   "outputs": [
    {
     "name": "stdout",
     "output_type": "stream",
     "text": [
      "0\n",
      "6 5\n",
      "0 1 0 0 0 1\n",
      "0 1 0 0 0 1\n",
      "0 1 0 0 0 1\n",
      "0 1 0 0 0 1\n",
      "0 1 0 0 0 1\n",
      "[[0, 1, 0, 0, 0, 1], [0, 1, 0, 0, 0, 1], [0, 1, 0, 0, 0, 1], [0, 1, 0, 0, 0, 1], [0, 1, 0, 0, 0, 1]]\n"
     ]
    },
    {
     "ename": "IndexError",
     "evalue": "list index out of range",
     "output_type": "error",
     "traceback": [
      "\u001b[1;31m---------------------------------------------------------------------------\u001b[0m",
      "\u001b[1;31mIndexError\u001b[0m                                Traceback (most recent call last)",
      "\u001b[1;32m<ipython-input-105-901fb7da74d8>\u001b[0m in \u001b[0;36m<module>\u001b[1;34m\u001b[0m\n\u001b[0;32m     27\u001b[0m         \u001b[0mxx\u001b[0m\u001b[1;33m,\u001b[0m\u001b[0myy\u001b[0m \u001b[1;33m=\u001b[0m\u001b[0mx\u001b[0m\u001b[1;33m+\u001b[0m\u001b[0mi\u001b[0m\u001b[1;33m[\u001b[0m\u001b[1;36m0\u001b[0m\u001b[1;33m]\u001b[0m\u001b[1;33m,\u001b[0m\u001b[0my\u001b[0m\u001b[1;33m+\u001b[0m\u001b[0mi\u001b[0m\u001b[1;33m[\u001b[0m\u001b[1;36m1\u001b[0m\u001b[1;33m]\u001b[0m\u001b[1;33m\u001b[0m\u001b[1;33m\u001b[0m\u001b[0m\n\u001b[0;32m     28\u001b[0m         \u001b[1;32mif\u001b[0m \u001b[1;36m0\u001b[0m\u001b[1;33m<=\u001b[0m\u001b[0mxx\u001b[0m\u001b[1;33m<\u001b[0m\u001b[0mM\u001b[0m \u001b[1;32mand\u001b[0m \u001b[1;36m0\u001b[0m\u001b[1;33m<=\u001b[0m\u001b[0myy\u001b[0m\u001b[1;33m<\u001b[0m\u001b[0mN\u001b[0m \u001b[1;33m:\u001b[0m\u001b[1;33m\u001b[0m\u001b[1;33m\u001b[0m\u001b[0m\n\u001b[1;32m---> 29\u001b[1;33m             \u001b[1;32mif\u001b[0m \u001b[0marr\u001b[0m\u001b[1;33m[\u001b[0m\u001b[0mxx\u001b[0m\u001b[1;33m]\u001b[0m\u001b[1;33m[\u001b[0m\u001b[0myy\u001b[0m\u001b[1;33m]\u001b[0m\u001b[1;33m!=\u001b[0m\u001b[1;36m1\u001b[0m\u001b[1;33m:\u001b[0m\u001b[1;33m\u001b[0m\u001b[1;33m\u001b[0m\u001b[0m\n\u001b[0m\u001b[0;32m     30\u001b[0m                 \u001b[0mq\u001b[0m\u001b[1;33m.\u001b[0m\u001b[0mappend\u001b[0m\u001b[1;33m(\u001b[0m\u001b[1;33m(\u001b[0m\u001b[0mn\u001b[0m\u001b[1;33m+\u001b[0m\u001b[1;36m1\u001b[0m\u001b[1;33m,\u001b[0m\u001b[0mxx\u001b[0m\u001b[1;33m,\u001b[0m\u001b[0myy\u001b[0m\u001b[1;33m,\u001b[0m\u001b[0mk\u001b[0m\u001b[1;33m)\u001b[0m\u001b[1;33m)\u001b[0m\u001b[1;33m\u001b[0m\u001b[1;33m\u001b[0m\u001b[0m\n\u001b[0;32m     31\u001b[0m \u001b[1;33m\u001b[0m\u001b[0m\n",
      "\u001b[1;31mIndexError\u001b[0m: list index out of range"
     ]
    }
   ],
   "source": [
    "from collections import deque\n",
    "\n",
    "k=int(input())\n",
    "M,N=map(int,input().split())\n",
    "arr=[list(map(int,input().split())) for _ in range(N)]\n",
    "print(arr)\n",
    "dv=[(0,1),(1,0),(0,-1),(-1,0)]#원숭이가 움직일 수 있는 방향\n",
    "dk=[(2,1),(1,2),(-2,1),(-1,2),(2,-1),(1,-2),(-2,-1),(-1,-2)] #말이 움직일 수 있는 방향\n",
    "s=set()\n",
    "q=deque()\n",
    "n=0\n",
    "q.append((0,0,0,k)) # n : 이동 횟수, (x,y) : 현 위치, k : 말처럼 이동할 수 있는 횟수 \n",
    "\n",
    "# 혹시,, 최소 n이 아닐 수도 있으니 문제 생기면 이부분 확인 필요함!\n",
    "while q:\n",
    "    n,x,y,k = q.popleft()\n",
    "    if x==M-1 and y==N-1: # 끝내는 조건\n",
    "        print(n);\n",
    "        break\n",
    "    \n",
    "    if (x,y,k) in s : # 중복 위치 무시\n",
    "        continue\n",
    "    s.add((x,y,k))\n",
    "    \n",
    "    #원숭이 움직임 +1\n",
    "    for i in dv:\n",
    "        xx,yy =x+i[0],y+i[1]\n",
    "        if 0<=xx<M and 0<=yy<N :\n",
    "            if arr[yy][xx]!=1 and (xx,yy,k) not in s:\n",
    "                s.add(xx,yy,k)\n",
    "                q.append((n+1,xx,yy,k))\n",
    "            \n",
    "    #말 움직임 +1\n",
    "    if k!=0:\n",
    "        for i in dk:\n",
    "            xx,yy =x+i[0],y+i[1]\n",
    "            if 0<=xx<M and 0<=yy<N :\n",
    "                if arr[yy][xx]!=1 and (xx,yy,k-1) not in s:\n",
    "                    s.add(xx,yy,k-1)\n",
    "                    q.append((n+1,xx,yy,k-1))\n",
    "else : print(-1)\n",
    "                     "
   ]
  },
  {
   "cell_type": "code",
   "execution_count": null,
   "metadata": {},
   "outputs": [],
   "source": [
    "0 1 0 0 0 1\n",
    "0 1 0 1 0 1\n",
    "0 1 0 1 0 1\n",
    "0 1 0 1 0 1\n",
    "0 0 0 1 0 0"
   ]
  },
  {
   "cell_type": "code",
   "execution_count": 103,
   "metadata": {},
   "outputs": [
    {
     "name": "stdout",
     "output_type": "stream",
     "text": [
      "4\n"
     ]
    }
   ],
   "source": [
    "from collections import deque\n",
    "\n",
    "k=1\n",
    "M,N=4, 4\n",
    "arr=[[0, 1, 0, 0],[0, 0, 1 ,0],[0, 0, 1, 0],[0, 0, 1, 0]]\n",
    "\n",
    "dv=[(0,1),(1,0),(0,-1),(-1,0)]#원숭이가 움직일 수 있는 방향\n",
    "dk=[(2,1),(1,2)] #말이 움직일 수 있는 방향\n",
    "s=set()\n",
    "q=deque()\n",
    "n=0\n",
    "q.append((0,0,0,k)) # n : 이동 횟수, (x,y) : 현 위치, k : 말처럼 이동할 수 있는 횟수 \n",
    "\n",
    "# 혹시,, 최소 n이 아닐 수도 있으니 문제 생기면 이부분 확인 필요함!\n",
    "while q:\n",
    "    \n",
    "    n,x,y,k = q.popleft()\n",
    "    if x==M-1 and y==N-1: # 끝내는 조건\n",
    "        print(n);\n",
    "        break\n",
    "    \n",
    "    if (x,y,k) in s : # 중복 위치 무시\n",
    "        continue\n",
    "    s.add((x,y,k))\n",
    "    \n",
    "    #원숭이 움직임 +1\n",
    "    for i in dv:\n",
    "        xx,yy =x+i[0],y+i[1]\n",
    "        if 0<=xx<M and 0<=yy<N :\n",
    "            if arr[xx][yy]!=1:\n",
    "                q.append((n+1,xx,yy,k))\n",
    "            \n",
    "    #말 움직임 +1\n",
    "    if k!=0:\n",
    "        for i in dk:\n",
    "            xx,yy =x+i[0],y+i[1]\n",
    "            if 0<=xx<M and 0<=yy<N :\n",
    "                if arr[xx][yy]!=1:\n",
    "                    q.append((n+1,xx,yy,k-1))\n",
    "                    \n",
    "else : print(-1)           \n",
    "\n",
    "    "
   ]
  },
  {
   "cell_type": "code",
   "execution_count": 82,
   "metadata": {},
   "outputs": [
    {
     "name": "stdout",
     "output_type": "stream",
     "text": [
      "[0, 0, 0, 0, 1, 0, 0, 0, 0, 0, 1, 0, 0, 1, 0, 0]\n"
     ]
    }
   ],
   "source": [
    "arr=[[0, 0, 0, 0],[1, 0, 0, 0],[0, 0, 1, 0],[0, 1, 0, 0]]\n",
    "g=[]\n",
    "for i in range(4):\n",
    "    for j in range(4):\n",
    "        g.append(arr[i][j])\n",
    "print(g)"
   ]
  },
  {
   "cell_type": "code",
   "execution_count": 78,
   "metadata": {},
   "outputs": [
    {
     "name": "stdout",
     "output_type": "stream",
     "text": [
      "11\n",
      "10\n"
     ]
    }
   ],
   "source": [
    "n=int(input())\n",
    "t=len(str(n))*9\n",
    "start=max(int(n/2),n+1-t)\n",
    "for i in range(start,int(n)):\n",
    "    s=i+sum(list(map(int,list(str(i)))))\n",
    "    if s==n:\n",
    "        print(i)\n",
    "        break\n",
    "else : print(0)"
   ]
  },
  {
   "cell_type": "code",
   "execution_count": 52,
   "metadata": {},
   "outputs": [
    {
     "name": "stdout",
     "output_type": "stream",
     "text": [
      "['1', '2', '3']\n"
     ]
    }
   ],
   "source": [
    "a=123\n",
    "a=str(a)\n",
    "a=list(a)\n",
    "print(a)"
   ]
  },
  {
   "cell_type": "code",
   "execution_count": 48,
   "metadata": {},
   "outputs": [
    {
     "name": "stdout",
     "output_type": "stream",
     "text": [
      "5\n",
      "55 185\n",
      "58 183\n",
      "88 186\n",
      "60 175\n",
      "46 155\n",
      "2 2 1 2 5 "
     ]
    }
   ],
   "source": [
    "n=int(input())\n",
    "arr=[list(map(int,input().split())) for _ in range(n)]\n",
    "\n",
    "t=[1 for _ in range(n)]\n",
    "\n",
    "for i in range(n):\n",
    "    for j in range(i+1,n):\n",
    "        if arr[i][0]>arr[j][0] and arr[i][1]>arr[j][1]:\n",
    "            t[j]+=1\n",
    "        elif arr[i][0]<arr[j][0] and arr[i][1]<arr[j][1]:\n",
    "            t[i]+=1\n",
    "\n",
    "for i in t:\n",
    "    print(i,end = \" \")\n",
    "    "
   ]
  },
  {
   "cell_type": "code",
   "execution_count": null,
   "metadata": {},
   "outputs": [],
   "source": [
    "5\n",
    "55 185\n",
    "58 183\n",
    "88 186\n",
    "60 175\n",
    "46 155"
   ]
  },
  {
   "cell_type": "code",
   "execution_count": 46,
   "metadata": {},
   "outputs": [
    {
     "name": "stdout",
     "output_type": "stream",
     "text": [
      "10 500\n",
      "93 181 245 214 315 36 185 138 216 295\n",
      "497\n"
     ]
    }
   ],
   "source": [
    "N,M = map(int,input().split())\n",
    "arr= list(map(int,input().split()))\n",
    "t=M\n",
    "a,b,c=0,1,2\n",
    "s_b=0\n",
    "while True:\n",
    "    s=arr[a]+arr[b]+arr[c]\n",
    "    if s==M:\n",
    "        print(s)\n",
    "        break\n",
    "    if s_b < s < M :\n",
    "        s_b=s\n",
    "    c+=1\n",
    "    if c>=N: \n",
    "        b+=1\n",
    "        c=b+1\n",
    "        if c>=N: \n",
    "            a+=1 \n",
    "            b=a+1 \n",
    "            c=b+1\n",
    "            if c>=N: \n",
    "                print(s_b)\n",
    "                break\n",
    "   \n",
    "    \n",
    "    \n",
    "    \n",
    "    #case1 딱 맞췄을때 -> break 하여 멈추면됨\n",
    "    #case2 딱 맞취지지 않을때 -> 전체 경우 확인 필요\n",
    "\n"
   ]
  },
  {
   "cell_type": "code",
   "execution_count": null,
   "metadata": {},
   "outputs": [],
   "source": [
    "def combination(arr, r):\n",
    "    # 1.\n",
    "    arr = sorted(arr)\n",
    "\n",
    "    # 2.\n",
    "    def generate(chosen):\n",
    "        if len(chosen) == r:\n",
    "            print(chosen)\n",
    "            return\n",
    "\n",
    "    \t# 3.\n",
    "        start = arr.index(chosen[-1]) + 1 if chosen else 0\n",
    "        for nxt in range(start, len(arr)):\n",
    "            chosen.append(arr[nxt])\n",
    "            generate(chosen)\n",
    "            chosen.pop()\n",
    "    generate([])"
   ]
  },
  {
   "cell_type": "code",
   "execution_count": 29,
   "metadata": {},
   "outputs": [
    {
     "name": "stdout",
     "output_type": "stream",
     "text": [
      "9991\n",
      "97\n",
      "103\n"
     ]
    }
   ],
   "source": [
    "n=int(input())\n",
    "i,r=2,n\n",
    "while i<=int(r**0.5): #\n",
    "    if n%i==0:\n",
    "        print(i)\n",
    "        n=n//i\n",
    "    else : i+=1\n",
    "if n>1:\n",
    "    print(n)"
   ]
  },
  {
   "cell_type": "code",
   "execution_count": 28,
   "metadata": {
    "scrolled": true
   },
   "outputs": [
    {
     "name": "stdout",
     "output_type": "stream",
     "text": [
      "1\n"
     ]
    }
   ],
   "source": [
    "n=int(input())\n",
    "i=2\n",
    "while i<=n:\n",
    "    if n%i==0:\n",
    "        print(i)\n",
    "        n=n//i\n",
    "    else : i+=1\n",
    "    "
   ]
  },
  {
   "cell_type": "code",
   "execution_count": 34,
   "metadata": {},
   "outputs": [
    {
     "name": "stdout",
     "output_type": "stream",
     "text": [
      "1\n",
      "1\n",
      "10\n",
      "4\n",
      "13\n",
      "4\n",
      "13\n",
      "4\n",
      "14\n",
      "3\n",
      "10\n",
      "4\n",
      "13\n",
      "4\n",
      "16\n",
      "5\n",
      "0\n"
     ]
    }
   ],
   "source": [
    "while True:\n",
    "    x=int(input())\n",
    "    if x==0:break\n",
    "    temp=[i for i in range(x,2*x+1) if (i%2!=0 or i==2) and i!=1] #1, 짝수 제외\n",
    "    arr=temp\n",
    "    r=int((2*x)**0.5)\n",
    "    for i in range(3,r+1,2): # 홀수 정리\n",
    "            arr=[j for j in temp if j%i!=0 or j==i]\n",
    "            temp=arr\n",
    "    if arr:\n",
    "        print(len(arr))"
   ]
  },
  {
   "cell_type": "code",
   "execution_count": 7,
   "metadata": {},
   "outputs": [
    {
     "name": "stdout",
     "output_type": "stream",
     "text": [
      "1\n"
     ]
    }
   ],
   "source": [
    "if 2==2 or 2%2!=0:\n",
    "    print(1)"
   ]
  },
  {
   "cell_type": "code",
   "execution_count": null,
   "metadata": {},
   "outputs": [],
   "source": [
    "M=int(input())\n",
    "N=int(input())\n",
    "temp=[i for i in range(M,N+1) if i!=1]\n",
    "for i in range(2,N+1):\n",
    "    if i!=2 and i%2==0:\n",
    "        continue\n",
    "    arr=[j for j in temp if j%i!=0 or j==i]\n",
    "    temp=arr\n",
    "if arr:\n",
    "    print(sum(arr))\n",
    "    print(min(arr))\n",
    "else : print(-1)"
   ]
  }
 ],
 "metadata": {
  "kernelspec": {
   "display_name": "Python 3",
   "language": "python",
   "name": "python3"
  },
  "language_info": {
   "codemirror_mode": {
    "name": "ipython",
    "version": 3
   },
   "file_extension": ".py",
   "mimetype": "text/x-python",
   "name": "python",
   "nbconvert_exporter": "python",
   "pygments_lexer": "ipython3",
   "version": "3.7.6"
  }
 },
 "nbformat": 4,
 "nbformat_minor": 4
}
