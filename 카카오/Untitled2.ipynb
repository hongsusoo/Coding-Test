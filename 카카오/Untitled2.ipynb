{
 "cells": [
  {
   "cell_type": "code",
   "execution_count": null,
   "metadata": {},
   "outputs": [],
   "source": [
    "def solution(n, k, cmd):\n",
    "    answer=[\"O\" for _ in range(n)]\n",
    "    z=[] #z연산 복윈\n",
    "    for i in cmd:\n",
    "        opt=i[0]\n",
    "        if opt==\"D\":\n",
    "            t=0\n",
    "            for j in range(k,n-1):\n",
    "                if answer[j]==\"O\":\n",
    "                    t+=1\n",
    "                    if t==int(i[2:]):\n",
    "                        k+=t\n",
    "        elif opt==\"U\": \n",
    "            t=0\n",
    "            for j in range(k,-1,-1):\n",
    "                if answer[j]==\"O\":\n",
    "                    t+=1\n",
    "                    if t==int(i[2:]):\n",
    "                        k-=t\n",
    "        elif opt==\"C\": \n",
    "            answer[k]=\"X\"\n",
    "            z.append(k)\n",
    "            if not \"O\" in answer[k:-1] :\n",
    "                for i in range(n-1,-1,-1):\n",
    "                    if answer[i]==\"O\":\n",
    "                        k=i\n",
    "        elif opt==\"Z\":\n",
    "            a=z.pop()\n",
    "            answer[a]=\"O\"\n",
    "    return \"\".join(answer)"
   ]
  },
  {
   "cell_type": "code",
   "execution_count": 67,
   "metadata": {},
   "outputs": [
    {
     "name": "stdout",
     "output_type": "stream",
     "text": [
      "OOXXXXXO\n"
     ]
    }
   ],
   "source": [
    "def solution(n, k, cmd):\n",
    "    answer=[\"O\" for _ in range(n)]\n",
    "    z=[]\n",
    "    for i in cmd:\n",
    "        opt=i[0]\n",
    "        if opt==\"D\":\n",
    "            t=0\n",
    "            for j in range(k,n-1):\n",
    "                if answer[j]==\"O\":\n",
    "                    t+=1\n",
    "                    if t==int(i[2:]):\n",
    "                        k+=t\n",
    "        elif opt==\"U\": \n",
    "            t=0\n",
    "            for j in range(k,-1,-1):\n",
    "                if answer[j]==\"O\":\n",
    "                    t+=1\n",
    "                    if t==int(i[2:]):\n",
    "                        k-=t\n",
    "        elif opt==\"C\": \n",
    "            answer[k]=\"X\"\n",
    "            if not \"O\" in answer[k:-1] :\n",
    "                for j in range(n-1,-1,-1):\n",
    "                    if answer[j]==\"O\":\n",
    "                        k=j\n",
    "                        break\n",
    "            \n",
    "            else : \n",
    "                for j in range(k,n):\n",
    "                    if answer[j]==\"O\":\n",
    "                        k=j\n",
    "                        break\n",
    "            z.append(k)\n",
    "        elif opt==\"Z\":\n",
    "            answer[z.pop()]=\"O\"\n",
    "    return \"\".join(answer)\n",
    "\n",
    "\n",
    "#2\n",
    "n=8\n",
    "k=2\n",
    "cmd=[\"C\",\"C\",\"C\",\"C\",\"C\",\"C\",\"C\",\"C\",\"Z\",\"Z\",\"Z\"]\n",
    "\n",
    "print(solution(n, k, cmd))\n",
    "# print(\"OOOOXOOO\")"
   ]
  },
  {
   "cell_type": "code",
   "execution_count": 83,
   "metadata": {},
   "outputs": [
    {
     "name": "stdout",
     "output_type": "stream",
     "text": [
      "2\n",
      "['O', 'O', 'O', 'O', 'O', 'O', 'O']\n",
      "2\n",
      "['O', 'O', 'O', 'O', 'O', 'O']\n",
      "2\n",
      "['O', 'O', 'O', 'O', 'O']\n",
      "2\n",
      "['O', 'O', 'O', 'O']\n",
      "2\n",
      "['O', 'O', 'O']\n",
      "2\n",
      "['O', 'O']\n",
      "1\n",
      "['O']\n",
      "0\n",
      "[]\n",
      "['O']\n",
      "['O', 'O']\n",
      "['O', 'O', 'O']\n",
      "['O', 'O', 'O', 'O']\n",
      "['O', 'O', 'O', 'O', 'O']\n",
      "OOXXXOOO\n"
     ]
    }
   ],
   "source": [
    "def solution(n, k, cmd):\n",
    "    answer=[\"O\" for _ in range(n)]\n",
    "    z=[] #z연산 복윈\n",
    "    for i in cmd:\n",
    "        opt=i[0]\n",
    "        \n",
    "        if opt==\"D\": k+=int(i[2:])\n",
    "        elif opt==\"U\": k-=int(i[2:])\n",
    "        elif opt==\"C\": \n",
    "            answer.pop(k)\n",
    "            z.append(k)\n",
    "            if len(answer)==k:\n",
    "                k-=1\n",
    "        elif opt==\"Z\":\n",
    "            a=z.pop()\n",
    "            if a<=k: k+=1\n",
    "            answer.insert(a, \"O\")\n",
    "    while z:\n",
    "        answer.insert(z.pop(), \"X\")\n",
    "    return \"\".join(answer)\n",
    "\n",
    "\n",
    "#2\n",
    "n=8\n",
    "k=2\n",
    "cmd=[\"C\",\"C\",\"C\",\"C\",\"C\",\"C\",\"C\",\"C\",\"Z\",\"Z\",\"Z\",\"Z\",\"Z\"]\n",
    "\n",
    "print(solution(n, k, cmd))\n",
    "# print(\"OOOOXOOO\")"
   ]
  },
  {
   "cell_type": "code",
   "execution_count": 12,
   "metadata": {},
   "outputs": [
    {
     "ename": "SyntaxError",
     "evalue": "invalid syntax (<ipython-input-12-18aaa51d0e11>, line 9)",
     "output_type": "error",
     "traceback": [
      "\u001b[1;36m  File \u001b[1;32m\"<ipython-input-12-18aaa51d0e11>\"\u001b[1;36m, line \u001b[1;32m9\u001b[0m\n\u001b[1;33m    8\t2\t[\"D 2\",\"C\",\"U 3\",\"C\",\"D 4\",\"C\",\"U 2\",\"Z\",\"Z\",\"U 1\",\"C\"]\t\"OOXOXOOO\"\u001b[0m\n\u001b[1;37m     \t^\u001b[0m\n\u001b[1;31mSyntaxError\u001b[0m\u001b[1;31m:\u001b[0m invalid syntax\n"
     ]
    }
   ],
   "source": [
    "#1\n",
    "n=8\n",
    "k=2\n",
    "cmd=[\"D 2\",\"C\",\"U 3\",\"C\",\"D 4\",\"C\",\"U 2\",\"Z\",\"Z\"]\n",
    "\n",
    "print(solution(n, k, cmd))\n",
    "print(\"OOOOXOOO\")\n",
    "\n",
    "#2\n",
    "n=8\n",
    "k=2\n",
    "cmd=[\"D 2\",\"C\",\"U 3\",\"C\",\"D 4\",\"C\",\"U 2\",\"Z\",\"Z\",\"U 1\",\"C\"]\n",
    "\n",
    "print(solution(n, k, cmd))\n",
    "print(\"OOXOXOOO\")"
   ]
  },
  {
   "cell_type": "code",
   "execution_count": null,
   "metadata": {},
   "outputs": [],
   "source": []
  }
 ],
 "metadata": {
  "kernelspec": {
   "display_name": "Python 3",
   "language": "python",
   "name": "python3"
  },
  "language_info": {
   "codemirror_mode": {
    "name": "ipython",
    "version": 3
   },
   "file_extension": ".py",
   "mimetype": "text/x-python",
   "name": "python",
   "nbconvert_exporter": "python",
   "pygments_lexer": "ipython3",
   "version": "3.7.6"
  }
 },
 "nbformat": 4,
 "nbformat_minor": 4
}
