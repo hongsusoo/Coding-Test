{
 "cells": [
  {
   "cell_type": "code",
   "execution_count": 4,
   "metadata": {
    "scrolled": true
   },
   "outputs": [
    {
     "name": "stdout",
     "output_type": "stream",
     "text": [
      "14\n",
      "14\n"
     ]
    }
   ],
   "source": [
    "from collections import defaultdict,deque\n",
    "from itertools import combinations\n",
    "\n",
    "def solution(k, num, links):\n",
    "    global b,dp,k_sum\n",
    "    answer = sum(num)\n",
    "    b=defaultdict(list)\n",
    "    n=len(num)\n",
    "    bb=[0 for i in range(n)] #꼭데기 노드 찾기\n",
    "    if k==1: return answer\n",
    "    for i in range(n):\n",
    "        b[i]+=links[i]\n",
    "        if -1 != links[i][0]:\n",
    "            bb[links[i][0]]=1\n",
    "        if -1 != links[i][1]:\n",
    "            bb[links[i][1]]=1\n",
    "#     print(bb)\n",
    "    b_stt=bb.index(0)\n",
    "#     print(b_stt)\n",
    "    t=[str(i) for i in range(n) if i !=b_stt]\n",
    "    cut=list(combinations(t,k-1)) #자를 위치 선정\n",
    "\n",
    "    while cut:\n",
    "        sum_=[0 for i in range(k)] #자른 이후에 sum값 저장\n",
    "        k_sum =[i for i in range(k-1,-1,-1)]#자른 횟수 저장\n",
    "        temp=cut.pop()\n",
    "        n=b_stt #항상 젤 위에 노드부터 진행\n",
    "        dp=set()\n",
    "        tt=k_sum.pop()\n",
    "#         print(temp)\n",
    "        find_sum(n,tt,sum_,temp)\n",
    "#         print(sum_)\n",
    "        if answer >= max(sum_):\n",
    "            answer = max(sum_)\n",
    "    return answer\n",
    "\n",
    "def find_sum(n,tt,sum_,temp):\n",
    "    global b,dp,k_sum\n",
    "    if str(n) in temp: tt=k_sum.pop() #0~k-1 만큼 k개에 대한 \n",
    "    sum_[tt]+=num[n]\n",
    "#     print(n,num[n],tt)\n",
    "    for i in b[n]:\n",
    "        if i==-1: continue\n",
    "        find_sum(i,tt,sum_,temp)\n",
    "\n",
    "\n",
    "k=2\n",
    "num = [6, 9, 7, 5]\n",
    "links=[[-1, -1], [-1, -1], [-1, 0], [2, 1]]\n",
    "\n",
    "print(solution(k, num, links))\n",
    "print(14)\n"
   ]
  },
  {
   "cell_type": "code",
   "execution_count": 3,
   "metadata": {},
   "outputs": [
    {
     "data": {
      "text/plain": [
       "['b', 'c', 'd']"
      ]
     },
     "execution_count": 3,
     "metadata": {},
     "output_type": "execute_result"
    }
   ],
   "source": [
    "a=[\"a\",\"b\",\"c\",\"d\"]\n",
    "a.remove(\"a\")\n",
    "a"
   ]
  }
 ],
 "metadata": {
  "kernelspec": {
   "display_name": "Python 3",
   "language": "python",
   "name": "python3"
  },
  "language_info": {
   "codemirror_mode": {
    "name": "ipython",
    "version": 3
   },
   "file_extension": ".py",
   "mimetype": "text/x-python",
   "name": "python",
   "nbconvert_exporter": "python",
   "pygments_lexer": "ipython3",
   "version": "3.7.6"
  }
 },
 "nbformat": 4,
 "nbformat_minor": 4
}
