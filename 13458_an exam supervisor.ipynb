{
 "cells": [
  {
   "cell_type": "code",
   "execution_count": 1,
   "metadata": {
    "scrolled": true
   },
   "outputs": [
    {
     "name": "stdout",
     "output_type": "stream",
     "text": [
      "5\n",
      "10 9 10 9 10 \n",
      "7 2\n",
      "13\n"
     ]
    }
   ],
   "source": [
    "def round_up(a):\n",
    "    if a-a//1>0:return int(a//1+1)\n",
    "    else : return int(a)\n",
    "\n",
    "n=int(input())\n",
    "c_room=list(map(int,input().split()))\n",
    "B,C=list(map(int,input().split()))\n",
    "s=0\n",
    "for i in c_room:\n",
    "    if i-B<=0: s+=1\n",
    "    else : \n",
    "        s+=round_up((i-B)/C)+1\n",
    "print(s)"
   ]
  }
 ],
 "metadata": {
  "kernelspec": {
   "display_name": "Python 3",
   "language": "python",
   "name": "python3"
  },
  "language_info": {
   "codemirror_mode": {
    "name": "ipython",
    "version": 3
   },
   "file_extension": ".py",
   "mimetype": "text/x-python",
   "name": "python",
   "nbconvert_exporter": "python",
   "pygments_lexer": "ipython3",
   "version": "3.7.6"
  }
 },
 "nbformat": 4,
 "nbformat_minor": 4
}
