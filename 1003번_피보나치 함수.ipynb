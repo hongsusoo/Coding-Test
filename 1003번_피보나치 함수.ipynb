{
 "cells": [
  {
   "cell_type": "code",
   "execution_count": 38,
   "metadata": {
    "scrolled": true
   },
   "outputs": [
    {
     "name": "stdout",
     "output_type": "stream",
     "text": [
      "1 0\n"
     ]
    }
   ],
   "source": [
    "def fibonacci(n):\n",
    "    if dp[n]!=0: return dp[n]\n",
    "    if n==0: dp[0]=(1,0); return (1,0)\n",
    "    elif n==1: dp[1]=(0,1); return (0,1)\n",
    "    else : dp[n]=(fibonacci(n-1)[0]+fibonacci(n-2)[0],fibonacci(n-1)[1]+fibonacci(n-2)[1]); return dp[n]\n",
    "    \n",
    "n=int(input())\n",
    "for _ in range(n):\n",
    "    t=int(input())\n",
    "    dp=[0 for j in range(t+1)]\n",
    "    temp=fibonacci(t)\n",
    "    print(temp[0],temp[1])"
   ]
  },
  {
   "cell_type": "code",
   "execution_count": 53,
   "metadata": {},
   "outputs": [
    {
     "name": "stdout",
     "output_type": "stream",
     "text": [
      "1 0\n"
     ]
    }
   ],
   "source": [
    "p=0\n",
    "dp=[0 for i in range(p+1)]\n",
    "temp=fibonacci(p)\n",
    "print(temp[0],temp[1])"
   ]
  },
  {
   "cell_type": "code",
   "execution_count": 27,
   "metadata": {},
   "outputs": [
    {
     "data": {
      "text/plain": [
       "(1, 1)"
      ]
     },
     "execution_count": 27,
     "metadata": {},
     "output_type": "execute_result"
    }
   ],
   "source": [
    "a=(1,0)\n",
    "b=(0,1)\n",
    "(a[0]+b[0],a[1]+b[1])\n"
   ]
  },
  {
   "cell_type": "code",
   "execution_count": 25,
   "metadata": {},
   "outputs": [
    {
     "data": {
      "text/plain": [
       "[(1, 0), 0, 0, 0, 0, 0, 0, 0, 0, 0]"
      ]
     },
     "execution_count": 25,
     "metadata": {},
     "output_type": "execute_result"
    }
   ],
   "source": [
    "dp=[0 if i for i in range(10)]\n"
   ]
  }
 ],
 "metadata": {
  "kernelspec": {
   "display_name": "Python 3",
   "language": "python",
   "name": "python3"
  },
  "language_info": {
   "codemirror_mode": {
    "name": "ipython",
    "version": 3
   },
   "file_extension": ".py",
   "mimetype": "text/x-python",
   "name": "python",
   "nbconvert_exporter": "python",
   "pygments_lexer": "ipython3",
   "version": "3.7.6"
  }
 },
 "nbformat": 4,
 "nbformat_minor": 4
}
