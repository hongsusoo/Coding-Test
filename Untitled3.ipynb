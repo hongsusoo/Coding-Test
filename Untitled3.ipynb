{
 "cells": [
  {
   "cell_type": "code",
   "execution_count": null,
   "metadata": {},
   "outputs": [],
   "source": [
    "i=float(input())\n",
    "n=round((i*2+0.25)**0.5-1)\n",
    "s=n*(n+1)*0.5\n",
    "print(n)\n",
    "i-=s\n",
    "n+=1\n",
    "print(\"{0}/{1}\".format(int(n-i+1),int(i)))"
   ]
  },
  {
   "cell_type": "code",
   "execution_count": 131,
   "metadata": {},
   "outputs": [
    {
     "name": "stdout",
     "output_type": "stream",
     "text": [
      "58\n",
      "5\n"
     ]
    }
   ],
   "source": [
    "import math\n",
    "N=float(input())\n",
    "print(math.ceil(((4*N-1)/12)**0.5+0.5))"
   ]
  },
  {
   "cell_type": "code",
   "execution_count": 127,
   "metadata": {},
   "outputs": [
    {
     "name": "stdout",
     "output_type": "stream",
     "text": [
      "2100000000 9 10\n",
      "2100000001\n"
     ]
    }
   ],
   "source": [
    "A,B,C = map(int,input().split())\n",
    "if C-B<=0:\n",
    "    print(-1)\n",
    "else : \n",
    "    print(A//(C-B)+1)"
   ]
  },
  {
   "cell_type": "code",
   "execution_count": 117,
   "metadata": {},
   "outputs": [
    {
     "name": "stdout",
     "output_type": "stream",
     "text": [
      "s\n",
      "a\n",
      "b\n",
      "a\n"
     ]
    }
   ],
   "source": [
    "4\n",
    "aba\n",
    "abab\n",
    "abcabc\n",
    "a"
   ]
  },
  {
   "cell_type": "code",
   "execution_count": 124,
   "metadata": {
    "scrolled": true
   },
   "outputs": [
    {
     "name": "stdout",
     "output_type": "stream",
     "text": [
      "3\n",
      "happy\n",
      "new\n",
      "year\n",
      "['happy', 'new', 'year']\n",
      "happy\n",
      "new\n",
      "year\n",
      "3 ['h', 'a', 'p', 'p', 'y', 'n', 'e', 'w', 'y', 'e', 'a', 'r']\n"
     ]
    }
   ],
   "source": [
    "n=int(input())\n",
    "a=[str(input()) for _ in range(n)]\n",
    "s,c,t=set(),0,0\n",
    "p=[]\n",
    "for i in a:\n",
    "    s,t=set(),0\n",
    "    for j in i:\n",
    "        if not j in s:\n",
    "            s.add(j)\n",
    "            t=j\n",
    "        elif j in s and t!=j:\n",
    "            break\n",
    "    else: \n",
    "        p+=i\n",
    "        c+=1\n",
    "print(c)\n",
    "        "
   ]
  },
  {
   "cell_type": "code",
   "execution_count": 115,
   "metadata": {},
   "outputs": [
    {
     "name": "stdout",
     "output_type": "stream",
     "text": [
      "dz=dz\n",
      "3\n"
     ]
    }
   ],
   "source": [
    "string=str(input())\n",
    "m=[\"c=\",\"c-\",\"dz=\",\"d-\",\"lj\",\"nj\",\"s=\",\"z=\"]\n",
    "n=0\n",
    "s=string\n",
    "for i in m:\n",
    "    s=s.replace(i,\"0\")\n",
    "print(len(s))"
   ]
  },
  {
   "cell_type": "code",
   "execution_count": 77,
   "metadata": {},
   "outputs": [
    {
     "data": {
      "text/plain": [
       "4"
      ]
     },
     "execution_count": 77,
     "metadata": {},
     "output_type": "execute_result"
    }
   ],
   "source": [
    "a=\"aaabbdcdcbbaaa\"\n",
    "a.find(\"bb\")\n"
   ]
  },
  {
   "cell_type": "code",
   "execution_count": 48,
   "metadata": {},
   "outputs": [
    {
     "name": "stdout",
     "output_type": "stream",
     "text": [
      "UNUCIC\n",
      "36\n"
     ]
    }
   ],
   "source": [
    "#65~96\n",
    "string = input()\n",
    "a={}\n",
    "p=65\n",
    "s=0\n",
    "for i in range(2,10):\n",
    "    if i==7 or i==9:\n",
    "        for j in range(4):\n",
    "            a[p+j]=i+1\n",
    "        p+=4\n",
    "    else : \n",
    "        for j in range(3):\n",
    "            a[p+j]=i+1\n",
    "        p+=3\n",
    "for i in string:\n",
    "    s+=a[ord(i)]\n",
    "print(s)\n"
   ]
  },
  {
   "cell_type": "code",
   "execution_count": 31,
   "metadata": {},
   "outputs": [
    {
     "name": "stdout",
     "output_type": "stream",
     "text": [
      "aabbccddeeqqqqqqqq\n",
      "Q\n"
     ]
    }
   ],
   "source": [
    "string=input().upper()\n",
    "s=set(string)\n",
    "c=(0,\" \")\n",
    "l=[]\n",
    "for i in s:\n",
    "    if c[0]< string.count(i):\n",
    "        c=(string.count(i),i)\n",
    "    l.append(string.count(i))\n",
    "if l.count(max(l))>=2:\n",
    "    print(\"?\")\n",
    "else : print(c[1])"
   ]
  },
  {
   "cell_type": "code",
   "execution_count": 40,
   "metadata": {},
   "outputs": [
    {
     "name": "stdout",
     "output_type": "stream",
     "text": [
      "23 34\n",
      "43\n"
     ]
    }
   ],
   "source": [
    "a,b=input().split()\n",
    "print(int(max(a[::-1],b[::-1])))\n"
   ]
  },
  {
   "cell_type": "code",
   "execution_count": 32,
   "metadata": {},
   "outputs": [
    {
     "name": "stdout",
     "output_type": "stream",
     "text": [
      "1 2\n",
      "1 2\n"
     ]
    }
   ],
   "source": [
    "a,b=input().split()\n",
    "print(a,b)"
   ]
  },
  {
   "cell_type": "code",
   "execution_count": 36,
   "metadata": {},
   "outputs": [
    {
     "ename": "NameError",
     "evalue": "name 'reverse' is not defined",
     "output_type": "error",
     "traceback": [
      "\u001b[1;31m---------------------------------------------------------------------------\u001b[0m",
      "\u001b[1;31mNameError\u001b[0m                                 Traceback (most recent call last)",
      "\u001b[1;32m<ipython-input-36-d0c51c51ca79>\u001b[0m in \u001b[0;36m<module>\u001b[1;34m\u001b[0m\n\u001b[0;32m      1\u001b[0m \u001b[0ma\u001b[0m\u001b[1;33m=\u001b[0m\u001b[1;33m[\u001b[0m\u001b[1;34m'123'\u001b[0m\u001b[1;33m,\u001b[0m\u001b[1;34m'234'\u001b[0m\u001b[1;33m]\u001b[0m\u001b[1;33m\u001b[0m\u001b[1;33m\u001b[0m\u001b[0m\n\u001b[1;32m----> 2\u001b[1;33m \u001b[0mreverse\u001b[0m\u001b[1;33m(\u001b[0m\u001b[0mlist\u001b[0m\u001b[1;33m(\u001b[0m\u001b[0mmax\u001b[0m\u001b[1;33m(\u001b[0m\u001b[0ma\u001b[0m\u001b[1;33m)\u001b[0m\u001b[1;33m)\u001b[0m\u001b[1;33m)\u001b[0m\u001b[1;33m\u001b[0m\u001b[1;33m\u001b[0m\u001b[0m\n\u001b[0m",
      "\u001b[1;31mNameError\u001b[0m: name 'reverse' is not defined"
     ]
    }
   ],
   "source": [
    "a=['123','234']\n",
    "reverse(list(max(a)))"
   ]
  }
 ],
 "metadata": {
  "kernelspec": {
   "display_name": "Python 3",
   "language": "python",
   "name": "python3"
  },
  "language_info": {
   "codemirror_mode": {
    "name": "ipython",
    "version": 3
   },
   "file_extension": ".py",
   "mimetype": "text/x-python",
   "name": "python",
   "nbconvert_exporter": "python",
   "pygments_lexer": "ipython3",
   "version": "3.7.6"
  }
 },
 "nbformat": 4,
 "nbformat_minor": 4
}
