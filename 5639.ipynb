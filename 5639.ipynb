{
 "cells": [
  {
   "cell_type": "code",
   "execution_count": 1,
   "metadata": {},
   "outputs": [
    {
     "data": {
      "text/plain": [
       "60"
      ]
     },
     "execution_count": 1,
     "metadata": {},
     "output_type": "execute_result"
    }
   ],
   "source": [
    "50\n",
    "30\n",
    "24\n",
    "5\n",
    "28\n",
    "45\n",
    "98\n",
    "52\n",
    "60"
   ]
  },
  {
   "cell_type": "code",
   "execution_count": 5,
   "metadata": {},
   "outputs": [
    {
     "name": "stdout",
     "output_type": "stream",
     "text": [
      "5\n",
      "28\n",
      "24\n",
      "45\n",
      "30\n",
      "60\n",
      "52\n",
      "98\n",
      "50\n"
     ]
    }
   ],
   "source": [
    "def BiTree(st,end):\n",
    "    if st>end:\n",
    "        return\n",
    "    d=end+1 #초기화\n",
    "    for i in range(st+1, end+1):\n",
    "        if t[st] < t[i]:\n",
    "            d=i \n",
    "            break\n",
    "    BiTree(st+1,d-1)\n",
    "    BiTree(d,end)\n",
    "    print(t[st])\n",
    "\n",
    "import sys\n",
    "t=[]\n",
    "while True :\n",
    "    i=int(sys.stdin.readline())\n",
    "    if not i: break\n",
    "    t+=i\n",
    "BiTree(0,len(t)-1)\n",
    "    "
   ]
  },
  {
   "cell_type": "code",
   "execution_count": 2,
   "metadata": {
    "scrolled": true
   },
   "outputs": [
    {
     "name": "stdout",
     "output_type": "stream",
     "text": [
      "5\n",
      "28\n",
      "24\n",
      "45\n",
      "30\n",
      "60\n",
      "52\n",
      "98\n",
      "50\n"
     ]
    }
   ],
   "source": [
    "def solution(start, end):\n",
    "    if start > end:\n",
    "        return\n",
    "\n",
    "    div = end + 1\n",
    "\n",
    "    for i in range(start + 1, end + 1):\n",
    "        # 루트 보다 큰 지점 --> 오른쪽 서브 트리\n",
    "        if tree[start] < tree[i]:\n",
    "            div = i\n",
    "            break\n",
    "\n",
    "    solution(start + 1, div - 1)\n",
    "    solution(div, end)\n",
    "    print(tree[start])\n",
    "\n",
    "\n",
    "# import sys\n",
    "# sys.setrecursionlimit(10 ** 9)\n",
    "\n",
    "# tree = []\n",
    "# count = 0\n",
    "# while count <= 10000:\n",
    "\n",
    "#     try:\n",
    "#         temp = int(input())\n",
    "#     except:\n",
    "#         break\n",
    "#     tree.append(temp)\n",
    "#     count += 1\n",
    "tree = [50,30,24,5,28,45,98,52,60]\n",
    "solution(0, len(tree) - 1)\n"
   ]
  },
  {
   "cell_type": "code",
   "execution_count": 7,
   "metadata": {},
   "outputs": [],
   "source": [
    "a=[]\n",
    "a+=[1]"
   ]
  }
 ],
 "metadata": {
  "kernelspec": {
   "display_name": "Python 3",
   "language": "python",
   "name": "python3"
  },
  "language_info": {
   "codemirror_mode": {
    "name": "ipython",
    "version": 3
   },
   "file_extension": ".py",
   "mimetype": "text/x-python",
   "name": "python",
   "nbconvert_exporter": "python",
   "pygments_lexer": "ipython3",
   "version": "3.8.1"
  }
 },
 "nbformat": 4,
 "nbformat_minor": 4
}
