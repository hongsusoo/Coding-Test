{
 "cells": [
  {
   "cell_type": "code",
   "execution_count": 3,
   "metadata": {},
   "outputs": [
    {
     "name": "stdout",
     "output_type": "stream",
     "text": [
      "4\n",
      "2 3 1\n",
      "5 2 4 1\n",
      "18\n"
     ]
    }
   ],
   "source": [
    "input()\n",
    "D=list(map(int, input().split()))\n",
    "P=list(map(int, input().split()))\n",
    "\n",
    "S=P.pop(0)\n",
    "sum=0\n",
    "for i,p in enumerate(P):\n",
    "    sum+=S*D[i]\n",
    "    if p < S:\n",
    "        S=p\n",
    "print(sum)"
   ]
  },
  {
   "cell_type": "code",
   "execution_count": null,
   "metadata": {},
   "outputs": [],
   "source": [
    "import sys\n",
    "\n",
    "N = int(sys.stdin.readline())\n",
    "cost = list(map(int,sys.stdin.readline().split()))\n",
    "prices = list(map(int, sys.stdin.readline().split()))\n",
    "\n",
    "\n",
    "payment=[]\n",
    "ans=0\n",
    "lowest = 1000000000\n",
    "\n",
    "def compare(i,payment):\n",
    "    \n",
    "    global lowest\n",
    "    if i == 0:\n",
    "        payment.append(prices[i])\n",
    "    else:\n",
    "        for j in range(i):\n",
    "            if prices[i] <= lowest:\n",
    "                lowest = prices[i]\n",
    "            else:\n",
    "                continue\n",
    "        payment.append(lowest)\n",
    "    return payment\n",
    "\n",
    "for k in range(N-1):\n",
    "    compare(k,payment)\n",
    "for i in range(len(payment)):\n",
    "    ans = ans + cost[i] * payment[i]\n",
    "print(ans)"
   ]
  }
 ],
 "metadata": {
  "kernelspec": {
   "display_name": "Python 3",
   "language": "python",
   "name": "python3"
  },
  "language_info": {
   "codemirror_mode": {
    "name": "ipython",
    "version": 3
   },
   "file_extension": ".py",
   "mimetype": "text/x-python",
   "name": "python",
   "nbconvert_exporter": "python",
   "pygments_lexer": "ipython3",
   "version": "3.8.1"
  }
 },
 "nbformat": 4,
 "nbformat_minor": 4
}
