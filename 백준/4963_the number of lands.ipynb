{
 "cells": [
  {
   "cell_type": "code",
   "execution_count": 6,
   "metadata": {},
   "outputs": [
    {
     "name": "stdout",
     "output_type": "stream",
     "text": [
      "5 4\n",
      "1 0 1 0 0\n",
      "1 0 0 0 0\n",
      "1 0 1 0 1\n",
      "1 0 0 1 0\n",
      "3\n",
      "0 0\n"
     ]
    }
   ],
   "source": [
    "from collections import deque\n",
    "\n",
    "def bfs(x,y):\n",
    "    q=deque()\n",
    "    q.append((x,y))\n",
    "    while q:\n",
    "        x,y= q.popleft()\n",
    "        for dx,dy in d:\n",
    "            if 0<=x+dx<n and 0<=y+dy<m:\n",
    "                if t[x+dx][y+dy] == 1 and temp[x+dx][y+dy] == 0 :\n",
    "                    temp[x+dx][y+dy] = 1\n",
    "                    q.append((x+dx,y+dy))\n",
    "            \n",
    "d=[(-1,-1),(-1,0),(-1,1),(0,-1),(0,1),(1,-1),(1,0),(1,1)]\n",
    "\n",
    "while True:\n",
    "    m,n=list(map(int,input().split()))\n",
    "    if n==0 and m==0: \n",
    "        break\n",
    "    t=[]\n",
    "    a=0\n",
    "    temp=[[0 for _ in range(m)] for _ in range(n)]\n",
    "    \n",
    "    for i in range(n): \n",
    "        t.append(list(map(int,input().split())))\n",
    "        \n",
    "    for x in range(n):\n",
    "        for y in range(m):\n",
    "            if t[x][y]==1 and temp[x][y]==0:\n",
    "                temp[x][y]=1\n",
    "                bfs(x,y)\n",
    "                a+=1\n",
    "    print(a)"
   ]
  },
  {
   "cell_type": "code",
   "execution_count": 4,
   "metadata": {},
   "outputs": [
    {
     "name": "stdout",
     "output_type": "stream",
     "text": [
      "5 4\n",
      "1 0 1 0 0\n",
      "1 0 0 0 0\n",
      "1 0 1 0 1\n",
      "1 0 0 1 0\n",
      "[[1, 0, 0, 0, 0], [0, 0, 0, 0, 0], [0, 0, 0, 0, 0], [0, 0, 0, 0, 0]]\n",
      "[[1, 0, 0, 0, 0], [1, 0, 0, 0, 0], [0, 0, 0, 0, 0], [0, 0, 0, 0, 0]]\n",
      "[[1, 0, 0, 0, 0], [1, 0, 0, 0, 0], [1, 0, 0, 0, 0], [0, 0, 0, 0, 0]]\n",
      "[[1, 0, 0, 0, 0], [1, 0, 0, 0, 0], [1, 0, 0, 0, 0], [1, 0, 0, 0, 0]]\n",
      "[[1, 0, 1, 0, 0], [1, 0, 0, 0, 0], [1, 0, 0, 0, 0], [1, 0, 0, 0, 0]]\n",
      "[[1, 0, 1, 0, 0], [1, 0, 0, 0, 0], [1, 0, 1, 0, 0], [1, 0, 0, 0, 0]]\n",
      "[[1, 0, 1, 0, 0], [1, 0, 0, 0, 0], [1, 0, 1, 0, 0], [1, 0, 0, 1, 0]]\n",
      "[[1, 0, 1, 0, 0], [1, 0, 0, 0, 0], [1, 0, 1, 0, 1], [1, 0, 0, 1, 0]]\n",
      "3\n",
      "0 0\n"
     ]
    }
   ],
   "source": [
    "def dfs(x,y):\n",
    "    for dx,dy in d:\n",
    "        if 0<=x+dx<n and 0<=y+dy<m:\n",
    "            if t[x+dx][y+dy] == 1 and temp[x+dx][y+dy] == 0 :\n",
    "                temp[x+dx][y+dy] = 1\n",
    "                return dfs(x+dx,y+dy)\n",
    "            \n",
    "d=[(-1,-1),(-1,0),(-1,1),(0,-1),(0,1),(1,-1),(1,0),(1,1)]\n",
    "\n",
    "while True:\n",
    "    m,n=list(map(int,input().split()))\n",
    "    if n==0 and m==0: \n",
    "        break\n",
    "    t=[]\n",
    "    a=0\n",
    "    temp=[[0 for _ in range(m)] for _ in range(n)]\n",
    "    \n",
    "    for i in range(n): \n",
    "        t.append(list(map(int,input().split())))\n",
    "        \n",
    "    for x in range(n):\n",
    "        for y in range(m):\n",
    "            if t[x][y]==1 and temp[x][y]==0:\n",
    "                temp[x][y]=1\n",
    "                dfs(x,y)\n",
    "                a+=1\n",
    "    print(a)"
   ]
  },
  {
   "cell_type": "code",
   "execution_count": null,
   "metadata": {},
   "outputs": [],
   "source": [
    "    \n",
    "d=[(-1,-1),(-1,0),(-1,1),(0,-1),(0,1),(1,-1),(1,0),(1,1)]\n",
    "\n",
    "while True:\n",
    "    m,n=list(map(int,input().split()))\n",
    "    if n==0 and m==0: \n",
    "        break\n",
    "\n",
    "    t=[]\n",
    "    a=0\n",
    "    temp=[[0 for _ in range(m)] for _ in range(n)]\n",
    "    \n",
    "    for i in range(n): \n",
    "        t.append(list(map(int,input().split())))\n",
    "    print(t)\n",
    "    for x in range(n):\n",
    "        for y in range(m):\n",
    "            chk=0\n",
    "            if t[x][y]==1:\n",
    "                temp[x][y]=1\n",
    "                for dx,dy in d:\n",
    "                    if 0<=x+dx<n and 0<=y+dy<m:\n",
    "                        if temp[x+dx][y+dy]==1 :\n",
    "                            chk=1\n",
    "                            break\n",
    "                if chk==0:\n",
    "                    a+=1\n",
    "                    print(x,y,a)\n",
    "    print(a)"
   ]
  },
  {
   "cell_type": "code",
   "execution_count": null,
   "metadata": {},
   "outputs": [],
   "source": []
  },
  {
   "cell_type": "code",
   "execution_count": null,
   "metadata": {},
   "outputs": [],
   "source": [
    "5 4\n",
    "1 0 1 0 0\n",
    "1 0 0 0 0\n",
    "1 0 1 0 1\n",
    "1 0 0 1 0"
   ]
  }
 ],
 "metadata": {
  "kernelspec": {
   "display_name": "Python 3",
   "language": "python",
   "name": "python3"
  },
  "language_info": {
   "codemirror_mode": {
    "name": "ipython",
    "version": 3
   },
   "file_extension": ".py",
   "mimetype": "text/x-python",
   "name": "python",
   "nbconvert_exporter": "python",
   "pygments_lexer": "ipython3",
   "version": "3.8.1"
  }
 },
 "nbformat": 4,
 "nbformat_minor": 4
}
