{
 "cells": [
  {
   "cell_type": "code",
   "execution_count": 102,
   "metadata": {},
   "outputs": [
    {
     "name": "stdout",
     "output_type": "stream",
     "text": [
      "0\n",
      "right : 1\n",
      "left  : 0\n",
      "1\n",
      "right : 2\n",
      "left  : 1\n",
      "2\n",
      "right : 3\n",
      "left  : 2\n",
      "3\n",
      "right : 4\n",
      "left  : 3\n",
      "4\n",
      "right : 5\n",
      "left  : 4\n",
      "5\n",
      "right : 6\n",
      "left  : 5\n",
      "6\n",
      "right : 7\n",
      "left  : 6\n",
      "7\n",
      "right : 8\n",
      "left  : 7\n",
      "8\n",
      "right : 9\n",
      "left  : 8\n",
      "9\n",
      "right : 10\n",
      "left  : 9\n"
     ]
    }
   ],
   "source": [
    "from bisect import bisect_right,bisect_left\n",
    "for i in range(10):\n",
    "    print(i)\n",
    "    print(\"right :\",bisect_right(range(10),i))\n",
    "    print(\"left  :\",bisect_left(range(10),i))\n",
    "\n",
    "def bisect_right(a, x, lo=0, hi=None): #해당 항목의 다음 값을 출력\n",
    "    hi = len(a)\n",
    "    while lo < hi:\n",
    "        mid = (lo+hi)//2\n",
    "        if x < a[mid]: hi = mid\n",
    "        else: lo = mid+1\n",
    "    return lo\n",
    "\n",
    "def bisect_left(a, x, lo=0, hi=None): #해당 항목을 출력\n",
    "    hi = len(a)\n",
    "    while lo < hi:\n",
    "        mid = (lo+hi)//2\n",
    "        if a[mid] < x: lo = mid+1\n",
    "        else: hi = mid\n",
    "    return lo\n"
   ]
  },
  {
   "cell_type": "code",
   "execution_count": null,
   "metadata": {},
   "outputs": [],
   "source": [
    "import sys\n",
    "f = sys.stdin.readline\n",
    "f()\n",
    "dp=[0]\n",
    "\n",
    "for i in map(int,f().split()):\n",
    "    if dp[-1]<i:\n",
    "        dp.append(i)\n",
    "    else:\n",
    "        low=1\n",
    "        high=len(dp)-1\n",
    "        while low<high: #DP내에서을 넣을 위치 이진탐색으로 찾기\n",
    "            mid=(low+high)//2\n",
    "            if dp[mid]<i:\n",
    "                low=mid+1\n",
    "            else:\n",
    "                high=mid\n",
    "        dp[high]=i\n",
    "print(len(dp)-1)"
   ]
  },
  {
   "cell_type": "code",
   "execution_count": 91,
   "metadata": {},
   "outputs": [
    {
     "ename": "TypeError",
     "evalue": "'list' object is not callable",
     "output_type": "error",
     "traceback": [
      "\u001b[1;31m---------------------------------------------------------------------------\u001b[0m",
      "\u001b[1;31mTypeError\u001b[0m                                 Traceback (most recent call last)",
      "\u001b[1;32m<ipython-input-91-1880fdc852d2>\u001b[0m in \u001b[0;36m<module>\u001b[1;34m\u001b[0m\n\u001b[0;32m      5\u001b[0m \u001b[0mv\u001b[0m\u001b[1;33m,\u001b[0m \u001b[0mcnt\u001b[0m\u001b[1;33m,\u001b[0m \u001b[0madder\u001b[0m \u001b[1;33m=\u001b[0m \u001b[1;36m0\u001b[0m\u001b[1;33m,\u001b[0m \u001b[1;36m0\u001b[0m\u001b[1;33m,\u001b[0m \u001b[0mbox\u001b[0m\u001b[1;33m.\u001b[0m\u001b[0mappend\u001b[0m\u001b[1;33m\u001b[0m\u001b[1;33m\u001b[0m\u001b[0m\n\u001b[0;32m      6\u001b[0m \u001b[1;33m\u001b[0m\u001b[0m\n\u001b[1;32m----> 7\u001b[1;33m \u001b[1;32mfor\u001b[0m \u001b[0mi\u001b[0m \u001b[1;32min\u001b[0m \u001b[0mmap\u001b[0m\u001b[1;33m(\u001b[0m\u001b[0mint\u001b[0m\u001b[1;33m,\u001b[0m \u001b[0mf\u001b[0m\u001b[1;33m(\u001b[0m\u001b[1;33m)\u001b[0m\u001b[1;33m.\u001b[0m\u001b[0msplit\u001b[0m\u001b[1;33m(\u001b[0m\u001b[1;33m)\u001b[0m\u001b[1;33m)\u001b[0m\u001b[1;33m:\u001b[0m\u001b[1;33m\u001b[0m\u001b[1;33m\u001b[0m\u001b[0m\n\u001b[0m\u001b[0;32m      8\u001b[0m     \u001b[1;32mif\u001b[0m \u001b[0mi\u001b[0m \u001b[1;33m>\u001b[0m \u001b[0mv\u001b[0m\u001b[1;33m:\u001b[0m\u001b[1;33m\u001b[0m\u001b[1;33m\u001b[0m\u001b[0m\n\u001b[0;32m      9\u001b[0m         \u001b[0madder\u001b[0m\u001b[1;33m(\u001b[0m\u001b[0mi\u001b[0m\u001b[1;33m)\u001b[0m\u001b[1;33m\u001b[0m\u001b[1;33m\u001b[0m\u001b[0m\n",
      "\u001b[1;31mTypeError\u001b[0m: 'list' object is not callable"
     ]
    }
   ],
   "source": [
    "import sys\n",
    "f = sys.stdin.readline\n",
    "f()\n",
    "box = []\n",
    "v, cnt, adder = 0, 0, box.append\n",
    "\n",
    "for i in map(int, f().split()):\n",
    "    if i > v:\n",
    "        adder(i)\n",
    "        cnt += 1\n",
    "    else:\n",
    "        l, u = 0, cnt-1\n",
    "        while l < u:\n",
    "            mid = (l+u)//2\n",
    "            if box[mid] < i:\n",
    "                l = mid + 1\n",
    "            else:\n",
    "                u = mid\n",
    "        box[u] = i\n",
    "    v = box[-1]\n",
    "print(cnt)"
   ]
  },
  {
   "cell_type": "code",
   "execution_count": 84,
   "metadata": {},
   "outputs": [
    {
     "name": "stdout",
     "output_type": "stream",
     "text": [
      "999999\n",
      "0.21136760711669922\n"
     ]
    }
   ],
   "source": [
    "import time\n",
    "\n",
    "start = time.time()\n",
    "\n",
    "import sys \n",
    "def find(target): \n",
    "    l, h = 1, len(stack)-1 \n",
    "    while l < h: \n",
    "        m = (l+h)//2 \n",
    "        if stack[m] < target: \n",
    "            l = m+1 \n",
    "        elif stack[m] > target: \n",
    "            h = m \n",
    "        else: l = h = m \n",
    "    return h \n",
    "\n",
    "l = int(sys.stdin.readline())\n",
    "arr = list(map(int,sys.stdin.readline().split()))\n",
    "stack = [0] \n",
    "for a in arr: \n",
    "    if stack[-1] < a: \n",
    "        stack.append(a) \n",
    "    else: stack[find(a)] = a \n",
    "print(len(stack)-1)\n",
    "print(time.time()-start)"
   ]
  },
  {
   "cell_type": "code",
   "execution_count": 85,
   "metadata": {},
   "outputs": [
    {
     "ename": "SyntaxError",
     "evalue": "unexpected EOF while parsing (<ipython-input-85-e1e9af3b1859>, line 24)",
     "output_type": "error",
     "traceback": [
      "\u001b[1;36m  File \u001b[1;32m\"<ipython-input-85-e1e9af3b1859>\"\u001b[1;36m, line \u001b[1;32m24\u001b[0m\n\u001b[1;33m    print(n-1\u001b[0m\n\u001b[1;37m             ^\u001b[0m\n\u001b[1;31mSyntaxError\u001b[0m\u001b[1;31m:\u001b[0m unexpected EOF while parsing\n"
     ]
    }
   ],
   "source": [
    "import sys\n",
    "# a=int(input())\n",
    "f = sys.stdin.readline\n",
    "f()\n",
    "\n",
    "dp=[0]\n",
    "n=len(dp)\n",
    "\n",
    "for i in range(a):\n",
    "    low=1\n",
    "    high=len(dp)-1\n",
    "    while low<high: #DP내에서을 넣을 위치 이진탐색으로 찾기\n",
    "        mid=(low+high)//2\n",
    "        if dp[mid]<l[i]:\n",
    "            low=mid+1\n",
    "        else:\n",
    "            high=mid-1\n",
    "    if low>=n:\n",
    "        dp.append(l[i])\n",
    "        n+=1\n",
    "    else:\n",
    "        dp[low]=l[i]\n",
    "print(n-1"
   ]
  },
  {
   "cell_type": "code",
   "execution_count": 90,
   "metadata": {},
   "outputs": [
    {
     "name": "stdout",
     "output_type": "stream",
     "text": [
      "999999\n",
      "0.22742676734924316\n"
     ]
    }
   ],
   "source": [
    "\n",
    "def f(i):\n",
    "    low=1\n",
    "    high=len(dp)-1\n",
    "    while low<high: #DP내에서을 넣을 위치 이진탐색으로 찾기\n",
    "        mid=(low+high)//2\n",
    "        if dp[mid]<i:\n",
    "            low=mid+1\n",
    "        elif dp[mid]==i:\n",
    "            low=high=mid\n",
    "        else:\n",
    "            high=mid\n",
    "    return high\n",
    "\n",
    "import sys\n",
    "f = sys.stdin.readline\n",
    "f()\n",
    "dp=[0]\n",
    "\n",
    "for i in map(int,f().split()):\n",
    "    if dp[-1]<i:\n",
    "        dp.append(i)\n",
    "    else : dp[f(i)]=i\n",
    "print(len(dp)-1)"
   ]
  },
  {
   "cell_type": "code",
   "execution_count": null,
   "metadata": {},
   "outputs": [],
   "source": [
    "import sys\n",
    "f = sys.stdin.readline\n",
    "f()\n",
    "dp=[0]\n",
    "\n",
    "for i in map(int,f().split()):\n",
    "    if dp[-1]<i:\n",
    "        dp.append(i)\n",
    "    else:\n",
    "        low=1\n",
    "        high=len(dp)-1\n",
    "        while low<high: #DP내에서을 넣을 위치 이진탐색으로 찾기\n",
    "            mid=(low+high)//2\n",
    "            if dp[mid]<i:\n",
    "                low=mid+1\n",
    "            elif dp[mid]==i:\n",
    "                low=high=mid\n",
    "            else:\n",
    "                high=mid\n",
    "        dp[high]=i\n",
    "print(len(dp)-1)"
   ]
  },
  {
   "cell_type": "code",
   "execution_count": 67,
   "metadata": {},
   "outputs": [
    {
     "name": "stdout",
     "output_type": "stream",
     "text": [
      "[0, 10, 15, 20]\n"
     ]
    }
   ],
   "source": [
    "print(dp)"
   ]
  },
  {
   "cell_type": "code",
   "execution_count": 46,
   "metadata": {},
   "outputs": [
    {
     "data": {
      "text/plain": [
       "{1, 3}"
      ]
     },
     "execution_count": 46,
     "metadata": {},
     "output_type": "execute_result"
    }
   ],
   "source": [
    "import sys\n",
    "n = int(sys.stdin.readline())\n",
    "inp = list(map(int, sys.stdin.readline().split()))\n",
    "\n",
    "target = [0]\n",
    "for i in range(n):\n",
    "    a = 0\n",
    "    b = len(target) - 1\n",
    "     while a < b:\n",
    "        c = (a + b ) // 2\n",
    "        if target[c] < inp[i]:\n",
    "            a = c + 1\n",
    "        elif target[c] >= inp[i]:\n",
    "            b = c - 1\n",
    "    if a >= len(target):\n",
    "        target.append(inp[i])\n",
    "    else:\n",
    "        target[a] = inp[i]\n",
    "print(len(target)-1)"
   ]
  },
  {
   "cell_type": "code",
   "execution_count": 104,
   "metadata": {},
   "outputs": [],
   "source": [
    "print??"
   ]
  }
 ],
 "metadata": {
  "kernelspec": {
   "display_name": "Python 3",
   "language": "python",
   "name": "python3"
  },
  "language_info": {
   "codemirror_mode": {
    "name": "ipython",
    "version": 3
   },
   "file_extension": ".py",
   "mimetype": "text/x-python",
   "name": "python",
   "nbconvert_exporter": "python",
   "pygments_lexer": "ipython3",
   "version": "3.8.1"
  }
 },
 "nbformat": 4,
 "nbformat_minor": 4
}
