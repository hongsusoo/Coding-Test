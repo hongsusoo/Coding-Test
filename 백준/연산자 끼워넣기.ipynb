{
 "cells": [
  {
   "cell_type": "code",
   "execution_count": 62,
   "metadata": {},
   "outputs": [
    {
     "name": "stdout",
     "output_type": "stream",
     "text": [
      "0 0\n"
     ]
    }
   ],
   "source": [
    "# n = map(int, input())\n",
    "# m = list(map(int,input.split()))\n",
    "# a,b,c,d = map(int,input.split())\n",
    "\n",
    "n = 4\n",
    "m = '1 2 3 4'\n",
    "a,b,c,d = 0 ,1 ,1 ,1\n",
    "m = list(map(int,m.split()))\n",
    "value = m[0]\n",
    "max_ans=-1000000000\n",
    "min_ans = 1000000000\n",
    "minn = 0\n",
    "maxx = 0\n",
    "def calc(k,value,a,b,c,d):\n",
    "    global ans, n , m, minn, maxx\n",
    "    if k ==n:\n",
    "        maxx = max(max_ans,value)\n",
    "        minn = min(min_ans,value)\n",
    "        return maxx, minn\n",
    "    else:\n",
    "        if a:\n",
    "            # print(value)\n",
    "            a-=1\n",
    "            calc(k+1, value+m[k],a,b,c,d)\n",
    "        if b:\n",
    "            # print(value)\n",
    "            b-=1\n",
    "            calc(k+1, value-m[k],a,b,c,d)\n",
    "        if c:\n",
    "            # print(value)\n",
    "            c-=1\n",
    "            calc(k+1, value*m[k],a,b,c,d)\n",
    "        if d:\n",
    "            # print(value)\n",
    "            d-=1\n",
    "            calc(k+1, int(value/m[k]),a,b,c,d)\n",
    "calc(1,value,a,b,c,d)\n",
    "print(minn, maxx)"
   ]
  },
  {
   "cell_type": "code",
   "execution_count": 48,
   "metadata": {},
   "outputs": [
    {
     "name": "stdout",
     "output_type": "stream",
     "text": [
      "3\n",
      "2 3\n",
      "1 0 0 1\n",
      "3\n"
     ]
    },
    {
     "ename": "IndexError",
     "evalue": "list index out of range",
     "output_type": "error",
     "traceback": [
      "\u001b[1;31m---------------------------------------------------------------------------\u001b[0m",
      "\u001b[1;31mIndexError\u001b[0m                                Traceback (most recent call last)",
      "\u001b[1;32m<ipython-input-48-2bddc42cf378>\u001b[0m in \u001b[0;36m<module>\u001b[1;34m\u001b[0m\n\u001b[0;32m     27\u001b[0m \u001b[1;33m\u001b[0m\u001b[0m\n\u001b[0;32m     28\u001b[0m     \u001b[1;32mfor\u001b[0m \u001b[0md\u001b[0m \u001b[1;32min\u001b[0m \u001b[0mrange\u001b[0m\u001b[1;33m(\u001b[0m\u001b[1;36m1\u001b[0m\u001b[1;33m,\u001b[0m\u001b[0mN\u001b[0m\u001b[1;33m)\u001b[0m\u001b[1;33m:\u001b[0m\u001b[1;33m\u001b[0m\u001b[1;33m\u001b[0m\u001b[0m\n\u001b[1;32m---> 29\u001b[1;33m         \u001b[0mprint\u001b[0m\u001b[1;33m(\u001b[0m\u001b[0mA\u001b[0m\u001b[1;33m[\u001b[0m\u001b[0md\u001b[0m\u001b[1;33m]\u001b[0m\u001b[1;33m)\u001b[0m\u001b[1;33m\u001b[0m\u001b[1;33m\u001b[0m\u001b[0m\n\u001b[0m\u001b[0;32m     30\u001b[0m         \u001b[0mt\u001b[0m\u001b[1;33m=\u001b[0m\u001b[0moperator\u001b[0m\u001b[1;33m(\u001b[0m\u001b[0mt\u001b[0m\u001b[1;33m,\u001b[0m\u001b[0mA\u001b[0m\u001b[1;33m[\u001b[0m\u001b[0md\u001b[0m\u001b[1;33m]\u001b[0m\u001b[1;33m,\u001b[0m\u001b[0ms\u001b[0m\u001b[1;33m[\u001b[0m\u001b[0md\u001b[0m\u001b[1;33m-\u001b[0m\u001b[1;36m1\u001b[0m\u001b[1;33m]\u001b[0m\u001b[1;33m)\u001b[0m\u001b[1;33m\u001b[0m\u001b[1;33m\u001b[0m\u001b[0m\n\u001b[0;32m     31\u001b[0m     \u001b[1;32mif\u001b[0m \u001b[0mt\u001b[0m \u001b[1;33m<\u001b[0m \u001b[0mmin_\u001b[0m \u001b[1;33m:\u001b[0m \u001b[0mmin_\u001b[0m\u001b[1;33m=\u001b[0m\u001b[0mt\u001b[0m\u001b[1;33m\u001b[0m\u001b[1;33m\u001b[0m\u001b[0m\n",
      "\u001b[1;31mIndexError\u001b[0m: list index out of range"
     ]
    }
   ],
   "source": [
    "from itertools import permutations\n",
    "from collections import deque\n",
    "\n",
    "def operator(a,b,op):\n",
    "    if op==\"+\": return a+b\n",
    "    elif op==\"-\": return a-b\n",
    "    elif op==\"*\": return a*b\n",
    "    else : \n",
    "        if a>=0 : return a//b\n",
    "        else : return -((-a)//b)\n",
    "\n",
    "N=int(input())\n",
    "A=input().split()\n",
    "f=input().split()\n",
    "k=['+','-','*','/']\n",
    "\n",
    "for i in range(4):\n",
    "    k[i]=k[i]*int(f[i])\n",
    "\n",
    "F=deque(set(permutations(list(\"\".join(k)),N-1)))\n",
    "\n",
    "max_=min_=int(A[0])\n",
    "\n",
    "while F:\n",
    "    t=A[0]\n",
    "    s=F.popleft()\n",
    "    for d in range(1,N):\n",
    "        t=operator(t,A[d],s[d-1])\n",
    "    if t < min_ : min_=t\n",
    "    if t > max_ : max_=t\n",
    "        \n",
    "print(max_)\n",
    "print(min_)\n"
   ]
  },
  {
   "cell_type": "code",
   "execution_count": 21,
   "metadata": {},
   "outputs": [
    {
     "data": {
      "text/plain": [
       "deque(['*', '//'])"
      ]
     },
     "execution_count": 21,
     "metadata": {},
     "output_type": "execute_result"
    }
   ],
   "source": [
    "from collections import deque\n"
   ]
  },
  {
   "cell_type": "code",
   "execution_count": 42,
   "metadata": {},
   "outputs": [
    {
     "name": "stdout",
     "output_type": "stream",
     "text": [
      "5\n",
      "0\n"
     ]
    }
   ],
   "source": [
    "N=3\n",
    "A=[0,4,5]\n",
    "f=[1, 0, 0, 1]\n",
    "\n",
    "\n",
    "def operator(a,b,op):\n",
    "    if op==\"+\": return a+b\n",
    "    elif op==\"-\": return a-b\n",
    "    elif op==\"*\": return a*b\n",
    "    else : \n",
    "        if a>=0 : return a//b\n",
    "        else : return -((-a)//b)\n",
    "\n",
    "from itertools import permutations\n",
    "from collections import deque\n",
    "\n",
    "# N=int(input())\n",
    "# A=map(int, input().split())\n",
    "# f=map(int, input().split())\n",
    "k=['+','-','*','/']\n",
    "\n",
    "for i in range(4):\n",
    "    k[i]=k[i]*f[i]\n",
    "\n",
    "F=deque(set(permutations(list(\"\".join(k)),N-1)))\n",
    "max_=min_=A[0]\n",
    "while F:\n",
    "    t=A[0]\n",
    "    s=F.popleft()\n",
    "    for d in range(1,N):\n",
    "        t=operator(t,A[d],s[d-1])\n",
    "    if t < min_ : min_=t\n",
    "    if t > max_ : max_=t\n",
    "        \n",
    "print(max_)\n",
    "print(min_)\n"
   ]
  },
  {
   "cell_type": "code",
   "execution_count": 60,
   "metadata": {},
   "outputs": [
    {
     "name": "stdout",
     "output_type": "stream",
     "text": [
      "3\n",
      "3 4 5\n",
      "1 0 1 0\n",
      "35\n",
      "17\n"
     ]
    }
   ],
   "source": [
    "from itertools import permutations\n",
    "from collections import deque\n",
    "\n",
    "def operator(a,b,op):\n",
    "    if op==\"+\": return a+b\n",
    "    elif op==\"-\": return a-b\n",
    "    elif op==\"*\": return a*b\n",
    "    else : \n",
    "        if a>=0 : return a//b\n",
    "        else : return -((-a)//b)\n",
    "\n",
    "N=int(input())\n",
    "A=list(map(int,input().split()))\n",
    "f=list(map(int,input().split()))\n",
    "k=['+','-','*','/']\n",
    "\n",
    "for i in range(4):\n",
    "    k[i]=k[i]*f[i]\n",
    "\n",
    "F=deque(set(permutations(list(\"\".join(k)),N-1)))\n",
    "\n",
    "max_=-1000000000\n",
    "min_=1000000000\n",
    "\n",
    "while F:\n",
    "    t=A[0]\n",
    "    s=F.popleft()\n",
    "    for d in range(1,N):\n",
    "        t=operator(t,A[d],s[d-1])\n",
    "    if t < min_ : min_=t\n",
    "    if t > max_ : max_=t \n",
    "        \n",
    "print(max_)\n",
    "print(min_)\n"
   ]
  }
 ],
 "metadata": {
  "kernelspec": {
   "display_name": "Python 3",
   "language": "python",
   "name": "python3"
  },
  "language_info": {
   "codemirror_mode": {
    "name": "ipython",
    "version": 3
   },
   "file_extension": ".py",
   "mimetype": "text/x-python",
   "name": "python",
   "nbconvert_exporter": "python",
   "pygments_lexer": "ipython3",
   "version": "3.7.6"
  }
 },
 "nbformat": 4,
 "nbformat_minor": 4
}
