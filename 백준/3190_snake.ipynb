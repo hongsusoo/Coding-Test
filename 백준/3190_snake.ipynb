{
 "cells": [
  {
   "cell_type": "code",
   "execution_count": 8,
   "metadata": {
    "scrolled": true
   },
   "outputs": [
    {
     "name": "stdout",
     "output_type": "stream",
     "text": [
      "6\n",
      "3\n",
      "3 4\n",
      "2 5\n",
      "5 3\n",
      "3\n",
      "3 D\n",
      "15 L\n",
      "17 D\n",
      "0 deque([(0, 0)])\n",
      "1 deque([(0, 1)])\n",
      "2 deque([(0, 2)])\n",
      "3 deque([(0, 3)])\n",
      "4 deque([(1, 3)])\n",
      "5 deque([(1, 3), (2, 3)])\n",
      "6 deque([(2, 3), (3, 3)])\n",
      "7 deque([(3, 3), (4, 3)])\n",
      "8 deque([(4, 3), (5, 3)])\n",
      "9\n"
     ]
    }
   ],
   "source": [
    "from collections import deque\n",
    "\n",
    "N=int(input())\n",
    "k=int(input())\n",
    "pos_apple=[]\n",
    "for i in range(k):\n",
    "    pos_apple.append(list(map(int,input().split())))\n",
    "L=int(input())\n",
    "cng_dir=[]\n",
    "for i in range(L):\n",
    "    cng_dir.append(input().split())\n",
    "\n",
    "board=[[0 for _ in range(N)] for _ in range(N)]\n",
    "\n",
    "for i,j in pos_apple: # input apple position \n",
    "    board[i-1][j-1]=\"A\"\n",
    "\n",
    "dir_=[[0,1],[1,0],[0,-1],[-1,0]]\n",
    "d=0\n",
    "z=0\n",
    "x=0\n",
    "y=0\n",
    "len_snake=deque()\n",
    "len_snake.append((x,y))\n",
    "y+=1\n",
    "t=0\n",
    "r=0\n",
    "while True:\n",
    "    t+=1\n",
    "    if 0<=x<N and 0<=y<N:\n",
    "        if (x,y) not in len_snake:\n",
    "            if board[x][y] != \"A\": \n",
    "                len_snake.popleft()\n",
    "            else: \n",
    "                board[x][y]=0\n",
    "            len_snake.append((x,y))\n",
    "            if z < L and t == int(cng_dir[z][0]):\n",
    "                if cng_dir[z][1]==\"L\":\n",
    "                    if r==0: r=3\n",
    "                    else: r-=1\n",
    "                if cng_dir[z][1]==\"D\":\n",
    "                    if r==3: r=0\n",
    "                    else: r+=1\n",
    "                z+=1   #number of changed direction => L \n",
    "            x+=dir_[r][0]\n",
    "            y+=dir_[r][1]\n",
    "        else: print(t); break\n",
    "    else: print(t); break"
   ]
  }
 ],
 "metadata": {
  "kernelspec": {
   "display_name": "Python 3",
   "language": "python",
   "name": "python3"
  },
  "language_info": {
   "codemirror_mode": {
    "name": "ipython",
    "version": 3
   },
   "file_extension": ".py",
   "mimetype": "text/x-python",
   "name": "python",
   "nbconvert_exporter": "python",
   "pygments_lexer": "ipython3",
   "version": "3.7.6"
  }
 },
 "nbformat": 4,
 "nbformat_minor": 4
}
