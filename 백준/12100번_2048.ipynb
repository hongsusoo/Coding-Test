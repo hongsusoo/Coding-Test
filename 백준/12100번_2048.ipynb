{
 "cells": [
  {
   "cell_type": "code",
   "execution_count": 18,
   "metadata": {},
   "outputs": [
    {
     "name": "stdout",
     "output_type": "stream",
     "text": [
      "012\n"
     ]
    }
   ],
   "source": [
    "def move_direction(arr,i,n):\n",
    "    n_arr = [i for i in arr] #deep copy(unmutable)\n",
    "    if i=='up':       #시계 회전 시켜서 위로 올리고 다시 반시계 시킴\n",
    "        n_arr=retate_arr(n_arr,n,Clk_Wise=False)\n",
    "        n_arr=move_left(n_arr,n)\n",
    "        n_arr=retate_arr(n_arr,n,Clk_Wise=True)\n",
    "    elif i == 'down': #반시계 회전 시켜서 위로 올리고 다시 시계 회전 시킴\n",
    "        n_arr=retate_arr(n_arr,n,Clk_Wise=True)\n",
    "        n_arr=move_left(n_arr,n)\n",
    "        n_arr=retate_arr(n_arr,n,Clk_Wise=False)\n",
    "    elif i == 'right':#180도 회전 시켜서 위로 올리고 다시 180도 회전 시킴\n",
    "        n_arr=retate_arr(n_arr,n,Clk_Wise=True)\n",
    "        n_arr=retate_arr(n_arr,n,Clk_Wise=True)\n",
    "        n_arr=move_left(n_arr,n)\n",
    "        n_arr=retate_arr(n_arr,n,Clk_Wise=False)\n",
    "        n_arr=retate_arr(n_arr,n,Clk_Wise=False)\n",
    "    elif i == 'left': \n",
    "        n_arr=move_left(n_arr,n)\n",
    "    if n_arr != arr: return n_arr #다를 경우에만 출력 이동 후에도 같으면 처리안함\n",
    "    \n",
    "def move_left(l,n):\n",
    "    for i in range(n):\n",
    "        temp=[o for o in l[i*n:i*n+n] if o!=0]\n",
    "        temp+=[0]\n",
    "        t=-1\n",
    "        for j in range(len(temp)-1):\n",
    "            if temp[j]==0:continue\n",
    "            else :\n",
    "                if temp[j]==temp[j+1]:\n",
    "                    temp[j]*=2\n",
    "                    temp[j+1]=0\n",
    "        temp=[o for o in temp if o!=0]\n",
    "        l[i*n:i*n+n]=temp+[0]*(n-len(temp))\n",
    "    return l\n",
    "                \n",
    "\n",
    "def retate_arr(l,n,Clk_Wise=True): #행렬 회전\n",
    "    a=0\n",
    "    n_n = [0]*(n*n)\n",
    "    if Clk_Wise==True: #시계방향 회전\n",
    "        for i in range(n*n):\n",
    "            if i%n==0: a+=1\n",
    "            x = (i*n+n-a)%(n*n)\n",
    "            n_n[x]=l[i]\n",
    "    else:              #반시계방향 회전\n",
    "        for i in range(n*n):\n",
    "            if i%n==0: a+=1\n",
    "            x = (i*n+n-a)%(n*n)\n",
    "            n_n[i]=l[x]\n",
    "    return n_n\n",
    "\n",
    "\n",
    "from collections import deque\n",
    "\n",
    "n = int(input())\n",
    "arr=[]\n",
    "for _ in range(n):\n",
    "    arr +=list(map(int,input().split()))\n",
    "\n",
    "m= ['up','down','right','left']\n",
    "q=deque()\n",
    "c=0\n",
    "s=set()\n",
    "q.append((arr,c,s))\n",
    "max_Value=max(arr)\n",
    "while q:\n",
    "    arr,c,s=q.popleft()\n",
    "    chk=0\n",
    "    if c>=5: print(max_Value); break\n",
    "    for i in m:\n",
    "        chk=move_direction(arr,i,n)\n",
    "        if chk:\n",
    "            if tuple(chk) in s: continue\n",
    "            s.add(tuple(chk))\n",
    "            q.append((chk,c+1,s))\n",
    "            if max(chk) > max_Value: max_Value=max(chk)          \n",
    "else : print(max_Value)"
   ]
  },
  {
   "cell_type": "code",
   "execution_count": 21,
   "metadata": {},
   "outputs": [
    {
     "ename": "IndexError",
     "evalue": "pop from empty list",
     "output_type": "error",
     "traceback": [
      "\u001b[1;31m---------------------------------------------------------------------------\u001b[0m",
      "\u001b[1;31mIndexError\u001b[0m                                Traceback (most recent call last)",
      "\u001b[1;32m<ipython-input-21-80ff8eaf40ce>\u001b[0m in \u001b[0;36m<module>\u001b[1;34m\u001b[0m\n\u001b[0;32m      1\u001b[0m \u001b[0mstack\u001b[0m \u001b[1;33m=\u001b[0m\u001b[1;33m[\u001b[0m\u001b[1;33m]\u001b[0m\u001b[1;33m\u001b[0m\u001b[1;33m\u001b[0m\u001b[0m\n\u001b[1;32m----> 2\u001b[1;33m \u001b[0mstack\u001b[0m\u001b[1;33m.\u001b[0m\u001b[0mpop\u001b[0m\u001b[1;33m(\u001b[0m\u001b[1;33m)\u001b[0m\u001b[1;33m\u001b[0m\u001b[1;33m\u001b[0m\u001b[0m\n\u001b[0m",
      "\u001b[1;31mIndexError\u001b[0m: pop from empty list"
     ]
    }
   ],
   "source": [
    "stack =[]\n",
    "stack.pop()"
   ]
  }
 ],
 "metadata": {
  "kernelspec": {
   "display_name": "Python 3",
   "language": "python",
   "name": "python3"
  },
  "language_info": {
   "codemirror_mode": {
    "name": "ipython",
    "version": 3
   },
   "file_extension": ".py",
   "mimetype": "text/x-python",
   "name": "python",
   "nbconvert_exporter": "python",
   "pygments_lexer": "ipython3",
   "version": "3.7.6"
  }
 },
 "nbformat": 4,
 "nbformat_minor": 4
}
