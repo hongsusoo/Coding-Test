{
 "cells": [
  {
   "cell_type": "code",
   "execution_count": null,
   "metadata": {},
   "outputs": [],
   "source": [
    "M=int(input())\n",
    "N=int(input())\n",
    "temp=[i for i in range(M,N+1) if i!=1]\n",
    "for i in range(2,N+1):\n",
    "    if i!=2 and i%2==0:\n",
    "        continue\n",
    "    arr=[j for j in temp if j%i!=0 or j==i]\n",
    "    temp=arr\n",
    "    if i>arr[0] and M-N+1<arr[0]:\n",
    "        break\n",
    "if arr:\n",
    "    print(sum(arr))\n",
    "    print(min(arr))\n",
    "else : print(-1)\n"
   ]
  },
  {
   "cell_type": "code",
   "execution_count": 147,
   "metadata": {},
   "outputs": [
    {
     "name": "stdout",
     "output_type": "stream",
     "text": [
      "4\n",
      "a\n",
      "0\n"
     ]
    }
   ],
   "source": [
    "n=list(map(int,input().split()))\n",
    "c=0\n",
    "for i in n:\n",
    "    l=2\n",
    "    while i>=l:\n",
    "        if i==l:\n",
    "            c+=1\n",
    "            break\n",
    "        elif i%l!=0:\n",
    "            l+=1\n",
    "            continue\n",
    "        else :\n",
    "            break\n",
    "print(c)\n",
    "            \n",
    "            \n",
    "        "
   ]
  },
  {
   "cell_type": "code",
   "execution_count": 133,
   "metadata": {},
   "outputs": [
    {
     "name": "stdout",
     "output_type": "stream",
     "text": [
      "2 2\n",
      "4\n"
     ]
    }
   ],
   "source": [
    "import math\n",
    "N=int(input())\n",
    "l=[list(map(int, input().split())) for _ in range(N)]\n",
    "\n",
    "for i in l:\n",
    "    ttl=i[1] - i[0]\n",
    "    n=int((ttl+1/4)**0.5-0.5)\n",
    "    print(int(n*2+math.ceil((ttl-(n*(n+1)))/(n+1))))\n",
    "    \n",
    "# 0 3\n",
    "# 1 5\n",
    "# 45 50"
   ]
  },
  {
   "cell_type": "code",
   "execution_count": 104,
   "metadata": {},
   "outputs": [
    {
     "data": {
      "text/plain": [
       "0"
      ]
     },
     "execution_count": 104,
     "metadata": {},
     "output_type": "execute_result"
    }
   ],
   "source": [
    "int(0.1)"
   ]
  },
  {
   "cell_type": "code",
   "execution_count": 89,
   "metadata": {
    "scrolled": false
   },
   "outputs": [
    {
     "name": "stdout",
     "output_type": "stream",
     "text": [
      "9223372036854775807 9223372036854775808\n",
      "18446744073709551615\n"
     ]
    }
   ],
   "source": [
    "print(sum(list(map(int,input().split()))))"
   ]
  },
  {
   "cell_type": "code",
   "execution_count": 87,
   "metadata": {},
   "outputs": [
    {
     "name": "stdout",
     "output_type": "stream",
     "text": [
      "4\n",
      "-1\n"
     ]
    }
   ],
   "source": [
    "N = int(input())\n",
    "p_3 = N//3\n",
    "p_5 = N//5\n",
    "for n5 in range(p_5+1,-1,-1):\n",
    "    for n3 in range(p_3+1):\n",
    "        if N==5*n5+3*n3:\n",
    "            print(n5+n3)\n",
    "            break\n",
    "    else :continue\n",
    "    break\n",
    "else : print(-1)\n",
    "\n",
    "    "
   ]
  },
  {
   "cell_type": "code",
   "execution_count": 84,
   "metadata": {},
   "outputs": [
    {
     "name": "stdout",
     "output_type": "stream",
     "text": [
      "[[1, 2, 3, 4, 5, 6, 7, 8, 9, 10, 11, 12, 13, 14], [1, 3, 6, 10, 15, 21, 28, 36, 45, 55, 66, 78, 91, 105], [1, 4, 10, 20, 35, 56, 84, 120, 165, 220, 286, 364, 455, 560], [1, 5, 15, 35, 70, 126, 210, 330, 495, 715, 1001, 1365, 1820, 2380], [1, 6, 21, 56, 126, 252, 462, 792, 1287, 2002, 3003, 4368, 6188, 8568], [1, 7, 28, 84, 210, 462, 924, 1716, 3003, 5005, 8008, 12376, 18564, 27132], [1, 8, 36, 120, 330, 792, 1716, 3432, 6435, 11440, 19448, 31824, 50388, 77520], [1, 9, 45, 165, 495, 1287, 3003, 6435, 12870, 24310, 43758, 75582, 125970, 203490], [1, 10, 55, 220, 715, 2002, 5005, 11440, 24310, 48620, 92378, 167960, 293930, 497420], [1, 11, 66, 286, 1001, 3003, 8008, 19448, 43758, 92378, 184756, 352716, 646646, 1144066], [1, 12, 78, 364, 1365, 4368, 12376, 31824, 75582, 167960, 352716, 705432, 1352078, 2496144], [1, 13, 91, 455, 1820, 6188, 18564, 50388, 125970, 293930, 646646, 1352078, 2704156, 5200300], [1, 14, 105, 560, 2380, 8568, 27132, 77520, 203490, 497420, 1144066, 2496144, 5200300, 10400600], [1, 15, 120, 680, 3060, 11628, 38760, 116280, 319770, 817190, 1961256, 4457400, 9657700, 20058300], [1, 16, 136, 816, 3876, 15504, 54264, 170544, 490314, 1307504, 3268760, 7726160, 17383860, 37442160]]\n",
      "6\n",
      "10\n"
     ]
    }
   ],
   "source": [
    "n=int(input())\n",
    "arr=[]\n",
    "apart=[]\n",
    "for _ in range(n):\n",
    "    arr.append([int(input()) for _ in range(2)])\n",
    "s=0\n",
    "temp=[1 for _ in range(14)]\n",
    "\n",
    "for i in range(15): #층\n",
    "    a=[]\n",
    "    for j in range(14): #호수\n",
    "        a+=[sum(temp[:j+1])]\n",
    "    apart.append(a)\n",
    "    temp=a\n",
    "\n",
    "for i in arr:\n",
    "    print(apart[int(i[0])][int(i[1])-1])\n",
    "    "
   ]
  },
  {
   "cell_type": "code",
   "execution_count": 77,
   "metadata": {},
   "outputs": [
    {
     "data": {
      "text/plain": [
       "[[1, 2, 3]]"
      ]
     },
     "execution_count": 77,
     "metadata": {},
     "output_type": "execute_result"
    }
   ],
   "source": []
  },
  {
   "cell_type": "code",
   "execution_count": 64,
   "metadata": {
    "scrolled": true
   },
   "outputs": [
    {
     "name": "stdout",
     "output_type": "stream",
     "text": [
      "2\n",
      "6 12 10\n",
      "30 50 72\n",
      "402\n",
      "1203\n"
     ]
    }
   ],
   "source": [
    "n=int(input())\n",
    "hotel=[list(input().split()) for _ in range(n)]\n",
    "\n",
    "for i in hotel:\n",
    "    print(\"{}{}\".format(str((int(i[2])-1)%int(i[0])+1),str((int(i[2])-1)//int(i[0])+1).zfill(2)))"
   ]
  },
  {
   "cell_type": "code",
   "execution_count": null,
   "metadata": {},
   "outputs": [],
   "source": [
    "6 12 10\n",
    "30 50 72"
   ]
  },
  {
   "cell_type": "code",
   "execution_count": 60,
   "metadata": {},
   "outputs": [
    {
     "ename": "ValueError",
     "evalue": "cannot switch from automatic field numbering to manual field specification",
     "output_type": "error",
     "traceback": [
      "\u001b[1;31m---------------------------------------------------------------------------\u001b[0m",
      "\u001b[1;31mValueError\u001b[0m                                Traceback (most recent call last)",
      "\u001b[1;32m<ipython-input-60-0769acd5bf1c>\u001b[0m in \u001b[0;36m<module>\u001b[1;34m\u001b[0m\n\u001b[1;32m----> 1\u001b[1;33m \u001b[0mprint\u001b[0m\u001b[1;33m(\u001b[0m\u001b[1;34m\"{}{0:>02d}\"\u001b[0m\u001b[1;33m.\u001b[0m\u001b[0mformat\u001b[0m\u001b[1;33m(\u001b[0m\u001b[1;36m3\u001b[0m\u001b[1;33m,\u001b[0m\u001b[0mstr\u001b[0m\u001b[1;33m(\u001b[0m\u001b[1;36m1\u001b[0m\u001b[1;33m)\u001b[0m\u001b[1;33m.\u001b[0m\u001b[0mzfill\u001b[0m\u001b[1;33m(\u001b[0m\u001b[1;36m2\u001b[0m\u001b[1;33m)\u001b[0m\u001b[1;33m)\u001b[0m\u001b[1;33m)\u001b[0m\u001b[1;33m\u001b[0m\u001b[1;33m\u001b[0m\u001b[0m\n\u001b[0m",
      "\u001b[1;31mValueError\u001b[0m: cannot switch from automatic field numbering to manual field specification"
     ]
    }
   ],
   "source": [
    "print(\"{}{0:>02d}\".format(3,str(1).zfill(2)))"
   ]
  },
  {
   "cell_type": "code",
   "execution_count": 37,
   "metadata": {},
   "outputs": [
    {
     "name": "stdout",
     "output_type": "stream",
     "text": [
      "10 9 100000\n",
      "99991\n"
     ]
    }
   ],
   "source": [
    "import math\n",
    "A,B,V=map(int,input().split())\n",
    "print((math.ceil((V-B)/(A-B))))"
   ]
  },
  {
   "cell_type": "code",
   "execution_count": 8,
   "metadata": {},
   "outputs": [
    {
     "name": "stdout",
     "output_type": "stream",
     "text": [
      "14\n",
      "4 4.0\n",
      "2/4\n"
     ]
    }
   ],
   "source": [
    "i=float(input())\n",
    "n=round((i*2+0.25)**0.5-1)\n",
    "s=n*(n+1)*0.5\n",
    "i-=s\n",
    "if i==0:\n",
    "    if n%2==0: print(\"{0}/{1}\".format(int(n),1))\n",
    "    else : print(\"{1}/{0}\".format(int(n),1))\n",
    "elif n%2==0: print(\"{0}/{1}\".format(int(n-i+2),int(i)))\n",
    "else : print(\"{1}/{0}\".format(int(n-i+2),int(i)))"
   ]
  },
  {
   "cell_type": "code",
   "execution_count": 15,
   "metadata": {},
   "outputs": [
    {
     "ename": "SyntaxError",
     "evalue": "invalid syntax (<ipython-input-15-def26cad81f9>, line 7)",
     "output_type": "error",
     "traceback": [
      "\u001b[1;36m  File \u001b[1;32m\"<ipython-input-15-def26cad81f9>\"\u001b[1;36m, line \u001b[1;32m7\u001b[0m\n\u001b[1;33m    print(%[::a%2*2-1])\u001b[0m\n\u001b[1;37m          ^\u001b[0m\n\u001b[1;31mSyntaxError\u001b[0m\u001b[1;31m:\u001b[0m invalid syntax\n"
     ]
    }
   ],
   "source": [
    "n=int(input())\n",
    "a=0\n",
    "while n>0:\n",
    "    a+=1\n",
    "    n-=a\n",
    "print(\"%d/%d\"%(1-n,a+n)[::a%2*2-1]) # list 반전 개쩐다.."
   ]
  },
  {
   "cell_type": "code",
   "execution_count": 17,
   "metadata": {},
   "outputs": [
    {
     "name": "stdout",
     "output_type": "stream",
     "text": [
      "14\n",
      "2 4 0\n",
      "2\n",
      "2/4\n"
     ]
    }
   ],
   "source": [
    "X,i,s=int(input()),2,1\n",
    "while X>s:s+=i;i+=1\n",
    "print(s-X+1,i-s+X-1,i%2)\n",
    "a=[s-X+1,i-s+X-1][i%2]\n",
    "print(a)\n",
    "print(a,\"/\",i-a,sep=\"\")"
   ]
  },
  {
   "cell_type": "code",
   "execution_count": 24,
   "metadata": {},
   "outputs": [
    {
     "name": "stdout",
     "output_type": "stream",
     "text": [
      "(4, 3)\n"
     ]
    }
   ],
   "source": []
  }
 ],
 "metadata": {
  "kernelspec": {
   "display_name": "Python 3",
   "language": "python",
   "name": "python3"
  },
  "language_info": {
   "codemirror_mode": {
    "name": "ipython",
    "version": 3
   },
   "file_extension": ".py",
   "mimetype": "text/x-python",
   "name": "python",
   "nbconvert_exporter": "python",
   "pygments_lexer": "ipython3",
   "version": "3.7.6"
  }
 },
 "nbformat": 4,
 "nbformat_minor": 4
}
