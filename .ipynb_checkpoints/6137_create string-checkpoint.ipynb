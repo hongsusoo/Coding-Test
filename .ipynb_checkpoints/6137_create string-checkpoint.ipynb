{
 "cells": [
  {
   "cell_type": "code",
   "execution_count": null,
   "metadata": {},
   "outputs": [],
   "source": [
    "from collections import deque\n",
    "\n",
    "n=int(input())\n",
    "string=[]\n",
    "for _ in range(n):\n",
    "    string+=input()\n",
    "\n",
    "string+='Z'\n",
    "answer=[-1 for _ in range(n)]\n",
    "left_p  = 0\n",
    "right_p = n-1\n",
    "i=0\n",
    "q=deque()\n",
    "q.append((i,left_p,right_p))\n",
    "\n",
    "\n",
    "while q:\n",
    "    i,left_p,right_p=q.popleft()\n",
    "    \n",
    "    if left_p==right_p: answer[i]=right_p; break\n",
    "    if string[left_p]>string[right_p]:\n",
    "        if string[answer[i]]>=string[right_p] and right_p not in answer: \n",
    "            answer[i]=right_p\n",
    "        q.append((i+1,left_p,right_p-1))\n",
    "    elif string[left_p]<string[right_p] :\n",
    "        if string[answer[i]]>=string[left_p] and left_p not in answer: \n",
    "            answer[i]=left_p\n",
    "        q.append((i+1,left_p+1,right_p))\n",
    "    else : \n",
    "        if string[answer[i]]>string[left_p]: answer[i]=left_p\n",
    "        q.append((i+1,left_p,right_p-1))\n",
    "        q.append((i+1,left_p+1,right_p))\n",
    "for i in range(n):\n",
    "    if i!=0 and i%80==0: print()\n",
    "    print(string[answer[i]], end='')"
   ]
  },
  {
   "cell_type": "code",
   "execution_count": 63,
   "metadata": {},
   "outputs": [
    {
     "name": "stdout",
     "output_type": "stream",
     "text": [
      "AAAAAAAAAC"
     ]
    }
   ],
   "source": [
    "from collections import deque\n",
    "\n",
    "n=int(input())\n",
    "string=[]\n",
    "for _ in range(n):\n",
    "    string+=input()\n",
    "\n",
    "string+='Z'\n",
    "answer=[-1 for _ in range(n)]\n",
    "left_p  = 0\n",
    "right_p = n-1\n",
    "i=0\n",
    "q=deque()\n",
    "q.append((i,left_p,right_p))\n",
    "\n",
    "\n",
    "while q:\n",
    "    i,left_p,right_p=q.popleft()\n",
    "    \n",
    "    if left_p==right_p: answer[i]=right_p; break\n",
    "    if string[left_p]>string[right_p]:\n",
    "        if string[answer[i]]>=string[right_p] and right_p not in answer: \n",
    "            answer[i]=right_p\n",
    "        q.append((i+1,left_p,right_p-1))\n",
    "    elif string[left_p]<string[right_p] :\n",
    "        if string[answer[i]]>=string[left_p] and left_p not in answer: \n",
    "            answer[i]=left_p\n",
    "        q.append((i+1,left_p+1,right_p))\n",
    "    else : \n",
    "        if string[answer[i]]>string[left_p]: answer[i]=left_p\n",
    "        q.append((i+1,left_p,right_p-1))\n",
    "        q.append((i+1,left_p+1,right_p))\n",
    "for i in range(n):\n",
    "    if i!=0 and i%80==0: print()\n",
    "    print(string[answer[i]], end='')\n",
    "    "
   ]
  },
  {
   "cell_type": "code",
   "execution_count": null,
   "metadata": {},
   "outputs": [],
   "source": [
    "import sys\n",
    "input = sys.stdin.readline\n",
    "\n",
    "n=int(input())\n",
    "string=[]\n",
    "for _ in range(n):\n",
    "    string+=input()\n",
    "\n",
    "left_p  = 0\n",
    "right_p = n-1\n",
    "c=0\n",
    "while left_p != right_p:\n",
    "    c+=1\n",
    "    if string[left_p]>=string[right_p]:\n",
    "        print(string[right_p], end ='')\n",
    "        right_p-=1\n",
    "    elif string[left_p]<string[right_p]:\n",
    "        print(string[left_p], end ='')\n",
    "        left_p+=1\n",
    "    if c==80:\n",
    "        print()\n",
    "print(string[left_p])"
   ]
  },
  {
   "cell_type": "code",
   "execution_count": null,
   "metadata": {},
   "outputs": [],
   "source": [
    "A\n",
    "C\n",
    "D\n",
    "B\n",
    "C\n",
    "B"
   ]
  },
  {
   "cell_type": "code",
   "execution_count": null,
   "metadata": {},
   "outputs": [],
   "source": []
  }
 ],
 "metadata": {
  "kernelspec": {
   "display_name": "Python 3",
   "language": "python",
   "name": "python3"
  },
  "language_info": {
   "codemirror_mode": {
    "name": "ipython",
    "version": 3
   },
   "file_extension": ".py",
   "mimetype": "text/x-python",
   "name": "python",
   "nbconvert_exporter": "python",
   "pygments_lexer": "ipython3",
   "version": "3.8.1"
  }
 },
 "nbformat": 4,
 "nbformat_minor": 4
}
