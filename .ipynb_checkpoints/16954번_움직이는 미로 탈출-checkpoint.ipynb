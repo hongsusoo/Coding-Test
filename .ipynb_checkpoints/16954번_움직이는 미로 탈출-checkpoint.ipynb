{
 "cells": [
  {
   "cell_type": "code",
   "execution_count": 1,
   "metadata": {},
   "outputs": [
    {
     "name": "stdout",
     "output_type": "stream",
     "text": [
      "11 1 11\n",
      "['11', '1', '11']\n"
     ]
    }
   ],
   "source": [
    "\"\"\"\n",
    "벽이 내려오는데, 8번 이상 살아 있어야함\n",
    "뒤로가는건 의미가 없음 -> 뒤로 가는건 그대로 있거나 다른 루트를 통해서 보완 가능함\n",
    "-> 뒤로가는것도 의미가 있음.. 조심하자\n",
    "\"\"\""
   ]
  },
  {
   "cell_type": "code",
   "execution_count": 34,
   "metadata": {
    "scrolled": false
   },
   "outputs": [
    {
     "name": "stdout",
     "output_type": "stream",
     "text": [
      "1\n"
     ]
    }
   ],
   "source": [
    "def iMove(p,c_map,i,c):\n",
    "    p_x=p%8+i[0]\n",
    "    p_y=p//8+i[1]\n",
    "    if 0<=p_x<8 and 0<=p_y<8: #체스판 안에 있으면\n",
    "        temp_map=c_map[8:]+'........'\n",
    "        if temp_map[p_x+p_y*8] == '.' and c_map[p_x+p_y*8] == '.':\n",
    "            return p_x+p_y*8,temp_map,c\n",
    "    else : return False\n",
    "\n",
    "from collections import deque\n",
    "\n",
    "c_map=''\n",
    "for _ in range(8):\n",
    "    c_map = input() + c_map #앞으로 붙여줘서 순서를 바꿔줌 (0,0)->(7,7)로 가도록\n",
    "\n",
    "mm = [(0,0),(1,0),(-1,0),(0,1),(1,1),(-1,1),(0,-1),(1,-1),(-1,-1)]\n",
    "p = 0\n",
    "c = 0\n",
    "q=deque()\n",
    "q.append((p,c_map,c))\n",
    "\n",
    "while q:\n",
    "    p,c_map,c = q.popleft()\n",
    "    \n",
    "    if c>=8: print(1); break\n",
    "        \n",
    "    for i in mm: #6가지 경우로 위치를 가져갈 수 있음\n",
    "        chk = iMove(p,c_map,i,c+1)\n",
    "        if chk:\n",
    "            q.append(chk)\n",
    "        else :continue\n",
    "else : print(0)\n",
    "    "
   ]
  },
  {
   "cell_type": "code",
   "execution_count": 28,
   "metadata": {},
   "outputs": [
    {
     "ename": "SyntaxError",
     "evalue": "invalid syntax (<ipython-input-28-a93f49e4c9c8>, line 1)",
     "output_type": "error",
     "traceback": [
      "\u001b[1;36m  File \u001b[1;32m\"<ipython-input-28-a93f49e4c9c8>\"\u001b[1;36m, line \u001b[1;32m1\u001b[0m\n\u001b[1;33m    ........\u001b[0m\n\u001b[1;37m         ^\u001b[0m\n\u001b[1;31mSyntaxError\u001b[0m\u001b[1;31m:\u001b[0m invalid syntax\n"
     ]
    }
   ],
   "source": [
    "\".#.......#......#...............................................\"\n",
    "\n",
    "\n",
    "\"........#........########.......................................\" #0\n",
    "\"........#........#######........................................\" #1\n",
    "\".......#......#......#......#......#......#......#......#.......\"#\n",
    "\n",
    "\n",
    "\n",
    "\".#......#.......#...............................................\"\n",
    "\".#......#........#..............................................\" #0"
   ]
  }
 ],
 "metadata": {
  "kernelspec": {
   "display_name": "Python 3",
   "language": "python",
   "name": "python3"
  },
  "language_info": {
   "codemirror_mode": {
    "name": "ipython",
    "version": 3
   },
   "file_extension": ".py",
   "mimetype": "text/x-python",
   "name": "python",
   "nbconvert_exporter": "python",
   "pygments_lexer": "ipython3",
   "version": "3.7.6"
  }
 },
 "nbformat": 4,
 "nbformat_minor": 4
}
