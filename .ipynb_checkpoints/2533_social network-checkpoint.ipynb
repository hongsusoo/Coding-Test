{
 "cells": [
  {
   "cell_type": "code",
   "execution_count": null,
   "metadata": {},
   "outputs": [],
   "source": [
    "def countNum(x,chk=True):\n",
    "    s_even=0\n",
    "    s_odd=0\n",
    "    if t[x]==[]: return 0,0\n",
    "    else:\n",
    "        for i in t[x]:\n",
    "            e,o=countNum(i,chk^True)\n",
    "            s_even+=e\n",
    "            s_odd +=o\n",
    "            if chk: s_odd+=1\n",
    "            else :  s_even+=1\n",
    "        print(x,chk, s_even, s_odd)\n",
    "        return s_even,s_odd\n",
    "\n",
    "import sys\n",
    "input = sys.stdin.readline\n",
    "\n",
    "n=int(input())\n",
    "t=[[] for _ in range(n+1)]\n",
    "\n",
    "for i in range(n-1):\n",
    "    a,b=map(int,input().split())\n",
    "    t[a].append(b)\n",
    "    \n",
    "print(min(countNum(1)))"
   ]
  },
  {
   "cell_type": "markdown",
   "metadata": {},
   "source": [
    "test"
   ]
  },
  {
   "cell_type": "code",
   "execution_count": 49,
   "metadata": {},
   "outputs": [
    {
     "data": {
      "text/plain": [
       "0"
      ]
     },
     "execution_count": 49,
     "metadata": {},
     "output_type": "execute_result"
    }
   ],
   "source": []
  },
  {
   "cell_type": "code",
   "execution_count": 54,
   "metadata": {},
   "outputs": [
    {
     "name": "stdout",
     "output_type": "stream",
     "text": [
      "7 True 0 2\n",
      "8 True 0 4\n",
      "9 True 0 6\n",
      "4 False 1 6\n",
      "2 True 1 7\n",
      "5 False 2 0\n",
      "6 False 4 0\n",
      "3 True 5 8\n",
      "5\n"
     ]
    }
   ],
   "source": [
    "def countNum(x,chk=True):\n",
    "    s_even=0\n",
    "    s_odd=0\n",
    "    if t[x]==[]: return chk,chk^True\n",
    "    else:\n",
    "        for i in t[x]:\n",
    "            e,o=countNum(i,chk^True)\n",
    "            s_even+=e\n",
    "            s_odd +=o\n",
    "            if chk: s_odd+=1\n",
    "            else :  s_even+=1\n",
    "            print(i,chk, s_even, s_odd)\n",
    "        return s_even,s_odd\n",
    "\n",
    "# import sys\n",
    "# input = sys.stdin.readline\n",
    "\n",
    "# n=int(input())\n",
    "# t=[[] for _ in range(n+1)]\n",
    "\n",
    "# for i in range(n-1):\n",
    "#     a,b=map(int,input().split())\n",
    "#     t[a].append(b)\n",
    "# print(t)\n",
    "# t=[[], [2, 11], [3, 4, 5], [6], [8, 9], [10], [7], [], [], [], [], []]\n",
    "t=[[], [2, 3], [4], [5, 6], [7, 8, 9], [], [], [], [], []]\n",
    "print(min(countNum(1)))"
   ]
  },
  {
   "cell_type": "code",
   "execution_count": 8,
   "metadata": {},
   "outputs": [
    {
     "name": "stdout",
     "output_type": "stream",
     "text": [
      "4 True 0 3\n",
      "2 False 1 3\n",
      "3 False 2 0\n",
      "1 True 3 5\n",
      "3\n"
     ]
    }
   ],
   "source": [
    "def countNum(x,chk=True):\n",
    "    s_even=0\n",
    "    s_odd=0\n",
    "    if t[x]==[]: return 0,0\n",
    "    else:\n",
    "        for i in t[x]:\n",
    "            e,o=countNum(i,chk^True)\n",
    "            s_even+=e\n",
    "            s_odd +=o\n",
    "            if chk: s_odd+=1\n",
    "            else :  s_even+=1\n",
    "        print(x,chk, s_even, s_odd)\n",
    "        return s_even,s_odd\n",
    "\n",
    "# import sys\n",
    "# input = sys.stdin.readline\n",
    "\n",
    "# n=int(input())\n",
    "# t=[[] for _ in range(n+1)]\n",
    "\n",
    "# for i in range(n-1):\n",
    "#     a,b=map(int,input().split())\n",
    "#     t[a].append(b)\n",
    "# print(t)\n",
    "t=[[], [2, 3], [4], [5, 6], [7, 8, 9], [], [], [], [], []]\n",
    "print(min(countNum(1)))"
   ]
  },
  {
   "cell_type": "code",
   "execution_count": 20,
   "metadata": {},
   "outputs": [
    {
     "name": "stdout",
     "output_type": "stream",
     "text": [
      "1\n",
      "[[], []]\n",
      "2 False 2 0\n",
      "4 False 2 0\n",
      "1 True 4 3\n",
      "3\n"
     ]
    }
   ],
   "source": [
    "def countNum(x,chk=True):\n",
    "    s_even=0\n",
    "    s_odd=0\n",
    "    if t[x]==[]: return 0,0\n",
    "    else:\n",
    "        for i in t[x]:\n",
    "            e,o=countNum(i,chk^True)\n",
    "            s_even+=e\n",
    "            s_odd +=o\n",
    "            if chk: s_odd+=1\n",
    "            else :  s_even+=1\n",
    "        print(x,chk, s_even, s_odd)\n",
    "        return s_even,s_odd\n",
    "\n",
    "# import sys\n",
    "# input = sys.stdin.readline\n",
    "\n",
    "n=int(input())\n",
    "t=[[] for _ in range(n+1)]\n",
    "\n",
    "for i in range(n-1):\n",
    "    a,b=map(int,input().split())\n",
    "    t[a].append(b)\n",
    "print(t)\n",
    "# t=[[], [2, 3], [4], [5, 6], [7, 8, 9], [], [], [], [], []]\n",
    "t=[[], [2, 3, 4], [5, 6], [], [7, 8], [], [], [], []]\n",
    "print(min(countNum(1)))"
   ]
  },
  {
   "cell_type": "code",
   "execution_count": null,
   "metadata": {},
   "outputs": [],
   "source": [
    "11\n",
    "1 2\n",
    "2 3\n",
    "2 4\n",
    "2 5\n",
    "3 6\n",
    "6 7\n",
    "4 8\n",
    "4 9\n",
    "5 10\n",
    "1 11\n",
    "9\n",
    "1 2\n",
    "1 3\n",
    "2 4\n",
    "3 5\n",
    "3 6\n",
    "4 7\n",
    "4 8\n",
    "4 9\n",
    "8\n",
    "1 2\n",
    "1 3\n",
    "1 4\n",
    "2 5\n",
    "2 6\n",
    "4 7\n",
    "4 8"
   ]
  }
 ],
 "metadata": {
  "kernelspec": {
   "display_name": "Python 3",
   "language": "python",
   "name": "python3"
  },
  "language_info": {
   "codemirror_mode": {
    "name": "ipython",
    "version": 3
   },
   "file_extension": ".py",
   "mimetype": "text/x-python",
   "name": "python",
   "nbconvert_exporter": "python",
   "pygments_lexer": "ipython3",
   "version": "3.8.1"
  }
 },
 "nbformat": 4,
 "nbformat_minor": 4
}
