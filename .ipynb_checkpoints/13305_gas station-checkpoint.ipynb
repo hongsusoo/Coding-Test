{
 "cells": [
  {
   "cell_type": "code",
   "execution_count": 3,
   "metadata": {},
   "outputs": [
    {
     "name": "stdout",
     "output_type": "stream",
     "text": [
      "4\n",
      "2 3 1\n",
      "5 2 4 1\n",
      "18\n"
     ]
    }
   ],
   "source": [
    "input()\n",
    "D=list(map(int, input().split()))\n",
    "P=list(map(int, input().split()))\n",
    "\n",
    "S=P.pop(0)\n",
    "sum=0\n",
    "for i,p in enumerate(P):\n",
    "    sum+=S*D[i]\n",
    "    if p < S:\n",
    "        S=p\n",
    "print(sum)"
   ]
  }
 ],
 "metadata": {
  "kernelspec": {
   "display_name": "Python 3",
   "language": "python",
   "name": "python3"
  },
  "language_info": {
   "codemirror_mode": {
    "name": "ipython",
    "version": 3
   },
   "file_extension": ".py",
   "mimetype": "text/x-python",
   "name": "python",
   "nbconvert_exporter": "python",
   "pygments_lexer": "ipython3",
   "version": "3.8.1"
  }
 },
 "nbformat": 4,
 "nbformat_minor": 4
}
