{
 "cells": [
  {
   "cell_type": "code",
   "execution_count": 80,
   "metadata": {},
   "outputs": [
    {
     "name": "stdout",
     "output_type": "stream",
     "text": [
      "YYYYY\n",
      "SYSYS\n",
      "YYYYY\n",
      "YSYYS\n",
      "YYYYY\n",
      "[(1, 0)]\n",
      "[(1, 2)]\n",
      "[(1, 4)]\n",
      "[(3, 1)]\n",
      "[(3, 4)]\n",
      "0\n"
     ]
    }
   ],
   "source": [
    "m = []\n",
    "for _ in range(5):\n",
    "    m+=input().split()\n",
    "d = [(0,1),(1,0),(-1,0),(0,-1)]\n",
    "answer = set()\n",
    "\n",
    "def backtracking(ans, count_s, count_y):\n",
    "    if count_y>3: return\n",
    "    print(ans)\n",
    "    if count_s+count_y==7:\n",
    "        ans.sort()\n",
    "        answer.add(tuple(ans))\n",
    "        return\n",
    "    for i,j in ans:\n",
    "        for dx,dy in d:\n",
    "            x,y=i-dx,j-dy\n",
    "            if 0<=x<5 and 0<=y<5 and ((i,j) not in ans):\n",
    "                if m[x][y] =='S': backtracking(ans+[(x,y)],count_s+1,count_y)\n",
    "                else : backtracking(ans+[(x,y)],count_s,count_y+1)\n",
    "                    \n",
    "for i in range(5):\n",
    "    for j in range(5):\n",
    "        if m[i][j] == 'S':\n",
    "            backtracking([(i,j)],1,0)\n",
    "        \n",
    "print(len(answer))"
   ]
  },
  {
   "cell_type": "code",
   "execution_count": 85,
   "metadata": {},
   "outputs": [
    {
     "name": "stdout",
     "output_type": "stream",
     "text": [
      "YYYYY\n",
      "SYSYS\n",
      "YYYYY\n",
      "YSYYS\n",
      "YYYYY\n",
      "94\n"
     ]
    }
   ],
   "source": [
    "m = \"\"\n",
    "for _ in range(5):\n",
    "    m += input()\n",
    "d = [(0,1),(1,0),(-1,0),(0,-1)]\n",
    "answer = set()\n",
    "\n",
    "def backtracking(ans, count_s, count_y):\n",
    "    if count_y>3: return\n",
    "    if count_s+count_y==7:\n",
    "        ans.sort()\n",
    "        answer.add(tuple(ans))\n",
    "        return\n",
    "    for i in ans:\n",
    "        for dx,dy in d:\n",
    "            x,y=i%5-dx,i//5-dy\n",
    "            if 0<=x<5 and 0<=y<5 and x+y*5 not in ans:\n",
    "                if m[x+y*5] =='S': backtracking(ans+[x+y*5],count_s+1,count_y)\n",
    "                else : backtracking(ans+[x+y*5],count_s,count_y+1)\n",
    "                    \n",
    "for i in range(5):\n",
    "    for j in range(5):\n",
    "        if m[i+j*5] =='S':\n",
    "            backtracking([i+j*5],1,0)\n",
    "        \n",
    "print(len(answer))\n",
    "\n",
    "## 했던걸 또 똑같이 하기 때문에 시간과 메모리를 많이 잡아먹음..\n",
    "## 했던 부분은 반복하지 않도록 짜보자!"
   ]
  },
  {
   "cell_type": "code",
   "execution_count": 67,
   "metadata": {},
   "outputs": [
    {
     "data": {
      "text/plain": [
       "1"
      ]
     },
     "execution_count": 67,
     "metadata": {},
     "output_type": "execute_result"
    }
   ],
   "source": [
    "len(set([(1,2,3),(1,2,3)])"
   ]
  },
  {
   "cell_type": "code",
   "execution_count": 54,
   "metadata": {},
   "outputs": [
    {
     "name": "stdout",
     "output_type": "stream",
     "text": [
      "YYYYY\n",
      "SYSYS\n",
      "YYYYY\n",
      "YSYYS\n",
      "YYYYY\n",
      "2\n"
     ]
    }
   ],
   "source": [
    "m = \"\"\n",
    "for _ in range(5):\n",
    "    m += input()\n",
    "d = [(0,1),(1,0),(-1,0),(0,-1)]\n",
    "answer = []\n",
    "\n",
    "def backtracking(ans, index, count_y):\n",
    "    ans = [i for i in ans]\n",
    "    if m[index] == 'Y' :\n",
    "        count_y +=1\n",
    "        if count_y > 3:\n",
    "            return\n",
    "    ans.append(index)\n",
    "    if len(set(ans))==7 and set(ans) not in answer:\n",
    "        answer.append(set(ans))\n",
    "        return\n",
    "    elif len(ans)<7:\n",
    "        for i in ans:\n",
    "            for dx,dy in d:\n",
    "                x,y=i%5-dx,i//5-dy\n",
    "                if any([x>4,x<0,y>4,y<0]) or x+y*5 in ans :\n",
    "                    continue\n",
    "                else :\n",
    "                    backtracking(ans,x+y*5,count_y)\n",
    "                    \n",
    "for i in range(5):\n",
    "    for j in range(5):\n",
    "        backtracking([],i+j*5,0)\n",
    "        \n",
    "print(len(answer))"
   ]
  },
  {
   "cell_type": "code",
   "execution_count": 42,
   "metadata": {},
   "outputs": [
    {
     "data": {
      "text/plain": [
       "[{0, 1, 2, 5, 6, 7, 10},\n",
       " {0, 1, 5, 6, 7, 10, 11},\n",
       " {0, 5, 6, 10, 11, 15, 16},\n",
       " {5, 10, 11, 15, 16, 17, 20},\n",
       " {5, 10, 15, 16, 20, 21, 22},\n",
       " {0, 1, 2, 3, 5, 6, 7},\n",
       " {0, 1, 5, 6, 7, 11, 16},\n",
       " {5, 6, 7, 10, 11, 12, 16},\n",
       " {5, 6, 11, 15, 16, 17, 21},\n",
       " {11, 15, 16, 17, 20, 21, 22},\n",
       " {2, 5, 6, 7, 8, 9, 12},\n",
       " {2, 7, 11, 12, 13, 16, 17},\n",
       " {7, 12, 16, 17, 18, 19, 22},\n",
       " {7, 12, 16, 17, 21, 22, 23},\n",
       " {1, 2, 3, 4, 7, 8, 9},\n",
       " {2, 3, 4, 7, 8, 9, 13},\n",
       " {7, 8, 9, 12, 13, 14, 19},\n",
       " {8, 13, 16, 17, 18, 19, 23},\n",
       " {13, 17, 18, 19, 22, 23, 24},\n",
       " {2, 3, 4, 7, 8, 9, 14},\n",
       " {3, 4, 7, 8, 9, 14, 19},\n",
       " {4, 7, 8, 9, 13, 14, 19},\n",
       " {9, 13, 14, 17, 18, 19, 24},\n",
       " {9, 14, 18, 19, 22, 23, 24}]"
      ]
     },
     "execution_count": 42,
     "metadata": {},
     "output_type": "execute_result"
    }
   ],
   "source": [
    "answer"
   ]
  },
  {
   "cell_type": "code",
   "execution_count": 27,
   "metadata": {},
   "outputs": [
    {
     "data": {
      "text/plain": [
       "True"
      ]
     },
     "execution_count": 27,
     "metadata": {},
     "output_type": "execute_result"
    }
   ],
   "source": []
  },
  {
   "cell_type": "code",
   "execution_count": 8,
   "metadata": {},
   "outputs": [],
   "source": [
    "a= [1,2,3,4]\n",
    "b=[i for i in a]\n",
    "b[0]=3"
   ]
  }
 ],
 "metadata": {
  "kernelspec": {
   "display_name": "Python 3",
   "language": "python",
   "name": "python3"
  },
  "language_info": {
   "codemirror_mode": {
    "name": "ipython",
    "version": 3
   },
   "file_extension": ".py",
   "mimetype": "text/x-python",
   "name": "python",
   "nbconvert_exporter": "python",
   "pygments_lexer": "ipython3",
   "version": "3.8.1"
  }
 },
 "nbformat": 4,
 "nbformat_minor": 4
}
