{
 "cells": [
  {
   "cell_type": "code",
   "execution_count": 116,
   "metadata": {
    "scrolled": true
   },
   "outputs": [
    {
     "name": "stdout",
     "output_type": "stream",
     "text": [
      "6 8 1 3 2 6 3 1 2 9 7 9 7 8 2 1 4 5 3 5 9 2 1 9 6 1 8 2 1 3 8 6 3 9 2 1 3 2 8 7 9 2 1 4 5 1 9 8 2 1 3 1\n"
     ]
    },
    {
     "ename": "ValueError",
     "evalue": "too many values to unpack (expected 3)",
     "output_type": "error",
     "traceback": [
      "\u001b[1;31m---------------------------------------------------------------------------\u001b[0m",
      "\u001b[1;31mValueError\u001b[0m                                Traceback (most recent call last)",
      "\u001b[1;32m<ipython-input-116-4949915b5ef3>\u001b[0m in \u001b[0;36m<module>\u001b[1;34m\u001b[0m\n\u001b[0;32m      1\u001b[0m \u001b[1;31m#입력 받기\u001b[0m\u001b[1;33m\u001b[0m\u001b[1;33m\u001b[0m\u001b[1;33m\u001b[0m\u001b[0m\n\u001b[0;32m      2\u001b[0m \u001b[1;33m\u001b[0m\u001b[0m\n\u001b[1;32m----> 3\u001b[1;33m \u001b[0mN\u001b[0m\u001b[1;33m,\u001b[0m\u001b[0mM\u001b[0m\u001b[1;33m,\u001b[0m\u001b[0mT\u001b[0m \u001b[1;33m=\u001b[0m \u001b[0mlist\u001b[0m\u001b[1;33m(\u001b[0m\u001b[0mmap\u001b[0m\u001b[1;33m(\u001b[0m\u001b[0mint\u001b[0m\u001b[1;33m,\u001b[0m\u001b[0minput\u001b[0m\u001b[1;33m(\u001b[0m\u001b[1;33m)\u001b[0m\u001b[1;33m.\u001b[0m\u001b[0msplit\u001b[0m\u001b[1;33m(\u001b[0m\u001b[1;33m)\u001b[0m\u001b[1;33m)\u001b[0m\u001b[1;33m)\u001b[0m\u001b[1;33m\u001b[0m\u001b[1;33m\u001b[0m\u001b[0m\n\u001b[0m\u001b[0;32m      4\u001b[0m \u001b[0marr\u001b[0m \u001b[1;33m=\u001b[0m \u001b[1;33m[\u001b[0m\u001b[1;33m]\u001b[0m\u001b[1;33m\u001b[0m\u001b[1;33m\u001b[0m\u001b[0m\n\u001b[0;32m      5\u001b[0m \u001b[1;32mfor\u001b[0m \u001b[0m_\u001b[0m \u001b[1;32min\u001b[0m \u001b[0mrange\u001b[0m\u001b[1;33m(\u001b[0m\u001b[0mN\u001b[0m\u001b[1;33m)\u001b[0m\u001b[1;33m:\u001b[0m\u001b[1;33m\u001b[0m\u001b[1;33m\u001b[0m\u001b[0m\n",
      "\u001b[1;31mValueError\u001b[0m: too many values to unpack (expected 3)"
     ]
    }
   ],
   "source": [
    "#입력 받기\n",
    "\n",
    "N,M,T = list(map(int,input().split()))\n",
    "arr = []\n",
    "for _ in range(N):\n",
    "    arr += (list(map(int,input().split())))\n",
    "order = list(map(int,input().split()))"
   ]
  },
  {
   "cell_type": "code",
   "execution_count": null,
   "metadata": {},
   "outputs": [],
   "source": [
    "6 8 1\n",
    "3 2 6 3 1 2 9 7\n",
    "9 7 8 2 1 4 5 3\n",
    "5 9 2 1 9 6 1 8\n",
    "2 1 3 8 6 3 9 2\n",
    "1 3 2 8 7 9 2 1\n",
    "4 5 1 9 8 2 1 3\n",
    "1"
   ]
  },
  {
   "cell_type": "code",
   "execution_count": 114,
   "metadata": {},
   "outputs": [
    {
     "name": "stdout",
     "output_type": "stream",
     "text": [
      "6 8 1\n",
      "[3, 2, 6, 3, 1, 2, 9, 7, 9, 7, 8, 2, 1, 4, 5, 3, 5, 9, 2, 1, 9, 6, 1, 8, 2, 1, 3, 8, 6, 3, 9, 2, 1, 3, 2, 8, 7, 9, 2, 1, 4, 5, 1, 9, 8, 2, 1, 3]\n",
      "[1]\n"
     ]
    }
   ],
   "source": [
    "print(N,M,T)\n",
    "print(arr)\n",
    "print(order)"
   ]
  },
  {
   "cell_type": "code",
   "execution_count": 77,
   "metadata": {},
   "outputs": [],
   "source": []
  },
  {
   "cell_type": "code",
   "execution_count": 136,
   "metadata": {
    "scrolled": false
   },
   "outputs": [
    {
     "name": "stdout",
     "output_type": "stream",
     "text": [
      "3 1 2 8 9 1 5 4\n",
      "1 2 9 7 8 2 3 1\n",
      "2 9 3 6 8 3 1 2\n",
      "8 1 6 9 1 2 9 5\n",
      "3 5 4 1 2 8 7 9\n",
      "7 9 2 1 3 6 2 3\n"
     ]
    }
   ],
   "source": [
    "#입력 받기\n",
    "# arr = []\n",
    "# N,M,T = map(int,input().split())\n",
    "# for _ in range(N):\n",
    "#     arr += (list(map(int,input().split())))\n",
    "# order = list(map(int,input().split()))\n",
    "\n",
    "N,M,T=6,8,6\n",
    "arr = [3, 2, 6, 3, 1, 2, 9, 7, 9, 7, 8, 2, 1, 4, 5, 3, 5, 9, 2, 1, 9, 6, 1, 8, 2, 1, 3, 8, 6, 3, 9, 2, 1, 3, 2, 8, 7, 9, 2, 1, 4, 5, 1, 9, 8 ,2, 1, 3]\n",
    "order=[1,2,3,4,5,6]\n",
    "\n",
    "for k in order:\n",
    "    arr=cng_arr_1(N,M,arr,k)\n",
    "    if k==3 or k==4: \n",
    "        t=N\n",
    "        N=M\n",
    "        M=t\n",
    "for i in range(N*M):\n",
    "    if i%M==M-1: print(arr[i],end='\\n')\n",
    "    else : print(arr[i],end=' ')\n",
    "        \n",
    "def cng_arr_1(N,M,arr,odr):\n",
    "    r=[]\n",
    "    if odr == 1: # 상하 반전\n",
    "        for i in range(N):\n",
    "            r=arr[M*i:M*(i+1)]+r\n",
    "        return r\n",
    "    \n",
    "    if odr == 2: #좌우 반전\n",
    "        for i in range(1,N+1):\n",
    "            for j in range(1,M+1):\n",
    "                r=r+[arr[i*M-j]]\n",
    "        return r\n",
    "    \n",
    "    if odr ==3: #오른쪽 90도 회전\n",
    "        for i in range(0,M):\n",
    "            for j in range(0,N):\n",
    "                r=r+[arr[(N-1)*M+i-M*j]]\n",
    "        return r\n",
    "    \n",
    "    if odr == 4: #왼쪽 90도 회전\n",
    "        for i in range(0,M):\n",
    "            for j in range(0,N):\n",
    "                r=r+[arr[M-1-i+M*j]]\n",
    "        return r\n",
    "                     \n",
    "    if odr == 5: #그룹화 및 오른쪽 90도 회전\n",
    "        for i in range(int(N/2)):\n",
    "            for j in range(int(M/2)):\n",
    "                r=r+[arr[int(N/2*M+M*i+j)]]\n",
    "            for j in range(int(M/2)):\n",
    "                r=r+[arr[int(N/2*M+M*i+j-M*N/2)]]\n",
    "        for i in range(int(N/2)):\n",
    "            for j in range(int(M/2)):\n",
    "                r=r+[arr[int(N/2*M+M/2+M*i+j)]]\n",
    "            for j in range(int(M/2)):\n",
    "                r=r+[arr[int(N/2*M+M/2+M*i+j-M*N/2)]]\n",
    "        return r\n",
    "                     \n",
    "    if odr == 6: #그룹화 및 왼쪽 90도 회전\n",
    "        for i in range(int(N/2)):\n",
    "            for j in range(int(M/2)):\n",
    "                r=r+[arr[int(M/2+M*i+j)]]\n",
    "            for j in range(int(M/2)):\n",
    "                r=r+[arr[int(M/2+M*i+j+M*N/2)]]\n",
    "        for i in range(int(N/2)):\n",
    "            for j in range(int(M/2)):\n",
    "                r=r+[arr[int(M*i+j)]]\n",
    "            for j in range(int(M/2)):\n",
    "                r=r+[arr[int(M*i+j+M*N/2)]]\n",
    "        return r"
   ]
  },
  {
   "cell_type": "code",
   "execution_count": null,
   "metadata": {},
   "outputs": [],
   "source": [
    "6 8 6\n",
    "3 2 6 3 1 2 9 7\n",
    "9 7 8 2 1 4 5 3\n",
    "5 9 2 1 9 6 1 8\n",
    "2 1 3 8 6 3 9 2\n",
    "1 3 2 8 7 9 2 1\n",
    "4 5 1 9 8 2 1 3\n",
    "1 2 3 4 5 6\n",
    "\n",
    "3 1 2 8 9 1 5 4\n",
    "1 2 9 7 8 2 3 1\n",
    "2 9 3 6 8 3 1 2\n",
    "8 1 6 9 1 2 9 5\n",
    "3 5 4 1 2 8 7 9\n",
    "7 9 2 1 3 6 2 3"
   ]
  },
  {
   "cell_type": "code",
   "execution_count": 30,
   "metadata": {},
   "outputs": [
    {
     "name": "stdout",
     "output_type": "stream",
     "text": [
      "[99, 1, 2]\n",
      "[1, 2, 99, 1, 2]\n"
     ]
    }
   ],
   "source": [
    "r=[99]\n",
    "a=[1,2]\n",
    "r=r+a\n",
    "print(r)\n",
    "r=a+r\n",
    "print(r)"
   ]
  },
  {
   "cell_type": "code",
   "execution_count": null,
   "metadata": {},
   "outputs": [],
   "source": [
    "6 8 1\n",
    "3 2 6 3 1 2 9 7\n",
    "9 7 8 2 1 4 5 3\n",
    "5 9 2 1 9 6 1 8\n",
    "2 1 3 8 6 3 9 2\n",
    "1 3 2 8 7 9 2 1\n",
    "4 5 1 9 8 2 1 3\n",
    "1"
   ]
  },
  {
   "cell_type": "code",
   "execution_count": 59,
   "metadata": {
    "scrolled": false
   },
   "outputs": [
    {
     "name": "stdout",
     "output_type": "stream",
     "text": [
      "[1, 2, 9, 70, 6, 3, 9, 2, 1, 4, 5, 3, 7, 9, 2, 1, 9, 6, 1, 8, 8, 2, 1, 3, 3, 2, 6, 3, 2, 1, 3, 8, 9, 7, 8, 2, 1, 3, 2, 8, 5, 9, 2, 1, 4, 5, 1, 9]\n"
     ]
    }
   ],
   "source": [
    "N=6\n",
    "M=8\n",
    "arr = [3, 2, 6, 3, 1, 2, 9, 70, \n",
    " 9, 7, 8, 2, 1, 4, 5, 3, \n",
    " 5, 9, 2, 1, 9, 6, 1, 8, \n",
    " 2, 1, 3, 8, 6, 3, 9, 2, \n",
    " 1, 3, 2, 8, 7, 9, 2, 1, \n",
    " 4, 5, 1, 9, 8, 2, 1, 3]\n",
    "r1=[]\n",
    "r2=[]\n",
    "r3=[]\n",
    "r4=[]\n",
    "r5=[]\n",
    "r6=[]\n",
    "# for i in range(N):\n",
    "#     r1=arr[M*i:M*(i+1)]+r1\n",
    "# for i in range(1,N+1):\n",
    "#     for j in range(1,M+1):\n",
    "#         r2=r2+[arr[i*M-j]]\n",
    "# for i in range(0,M):\n",
    "#     for j in range(0,N):\n",
    "#         r3=r3+[arr[(N-1)*M+i-M*j]\n",
    "# for i in range(0,M):\n",
    "#     for j in range(0,N):\n",
    "#         r4=r4+[arr[M-1-i+M*j]]\n",
    "\n",
    "# for i in range(int(N/2)):\n",
    "#     for j in range(int(M/2)):\n",
    "#         r5=r5+[arr[int(N/2*M+M*i+j)]]\n",
    "#     for j in range(int(M/2)):\n",
    "#         r5=r5+[arr[int(N/2*M+M*i+j-M*N/2)]]\n",
    "# for i in range(int(N/2)):\n",
    "#     for j in range(int(M/2)):\n",
    "#         r5=r5+[arr[int(N/2*M+M/2+M*i+j)]]\n",
    "#     for j in range(int(M/2)):\n",
    "#         r5=r5+[arr[int(N/2*M+M/2+M*i+j-M*N/2)]]\n",
    "\n",
    "for i in range(int(N/2)):\n",
    "    for j in range(int(M/2)):\n",
    "        r5=r5+[arr[int(M/2+M*i+j)]]\n",
    "    for j in range(int(M/2)):\n",
    "        r5=r5+[arr[int(M/2+M*i+j+M*N/2)]]\n",
    "for i in range(int(N/2)):\n",
    "    for j in range(int(M/2)):\n",
    "        r5=r5+[arr[int(M*i+j)]]\n",
    "    for j in range(int(M/2)):\n",
    "        r5=r5+[arr[int(M*i+j+M*N/2)]]\n",
    "return r\n",
    "print(r5)"
   ]
  },
  {
   "cell_type": "code",
   "execution_count": null,
   "metadata": {},
   "outputs": [],
   "source": [
    "[1, 2, 9, 70, 6, 3, 9, 2, \n",
    " 1, 4, 5, 3, 7, 9, 2, 1, \n",
    " 9, 6, 1, 8, 8, 2, 1, 3, \n",
    " 3, 2, 6, 3, 2, 1, 3, 8, \n",
    " 9, 7, 8, 2, 1, 3, 2, 8, \n",
    " 5, 9, 2, 1, 4, 5, 1, 9]\n",
    "\n",
    "[3, 2, 6, 3, 1, 2, 9, 70, \n",
    " 9, 7, 8, 2, 1, 4, 5, 3, \n",
    " 5, 9, 2, 1, 9, 6, 1, 8, \n",
    " 2, 1, 3, 8, 6, 3, 9, 2, \n",
    " 1, 3, 2, 8, 7, 9, 2, 1, \n",
    " 4, 5, 1, 9, 8, 2, 1, 3]"
   ]
  },
  {
   "cell_type": "code",
   "execution_count": 125,
   "metadata": {},
   "outputs": [
    {
     "data": {
      "text/plain": [
       "'789789'"
      ]
     },
     "execution_count": 125,
     "metadata": {},
     "output_type": "execute_result"
    }
   ],
   "source": [
    "a=str(789789)\n",
    "a"
   ]
  },
  {
   "cell_type": "code",
   "execution_count": 138,
   "metadata": {},
   "outputs": [
    {
     "name": "stdout",
     "output_type": "stream",
     "text": [
      "\\    /\"\n",
      " )  ( ')\n",
      "(  /  )\n",
      " \\(__)|\n"
     ]
    }
   ],
   "source": [
    "print(\"\\    /\\\"\")\n",
    "print(\" )  ( ')\")\n",
    "print(\"(  /  )\")\n",
    "print(\" \\(__)|\")"
   ]
  },
  {
   "cell_type": "code",
   "execution_count": 154,
   "metadata": {},
   "outputs": [
    {
     "name": "stdout",
     "output_type": "stream",
     "text": [
      "12\n",
      "<class 'int'>\n"
     ]
    }
   ],
   "source": [
    "a=int(input())\n",
    "print(type(a))"
   ]
  }
 ],
 "metadata": {
  "kernelspec": {
   "display_name": "Python 3",
   "language": "python",
   "name": "python3"
  },
  "language_info": {
   "codemirror_mode": {
    "name": "ipython",
    "version": 3
   },
   "file_extension": ".py",
   "mimetype": "text/x-python",
   "name": "python",
   "nbconvert_exporter": "python",
   "pygments_lexer": "ipython3",
   "version": "3.7.6"
  }
 },
 "nbformat": 4,
 "nbformat_minor": 4
}
