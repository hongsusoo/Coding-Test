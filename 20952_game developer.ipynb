{
 "cells": [
  {
   "cell_type": "code",
   "execution_count": 21,
   "metadata": {},
   "outputs": [
    {
     "name": "stdout",
     "output_type": "stream",
     "text": [
      "2\n",
      "3\n"
     ]
    }
   ],
   "source": [
    "l=[1,2,3]\n",
    "s=set(i for i in l if i !=1)\n",
    "for i in s:\n",
    "    print(i)"
   ]
  },
  {
   "cell_type": "code",
   "execution_count": 30,
   "metadata": {},
   "outputs": [
    {
     "name": "stdout",
     "output_type": "stream",
     "text": [
      "[1, 0, 0, 0, 0, 0, 1]\n",
      "5\n",
      "8 15 36 43 50\n"
     ]
    }
   ],
   "source": [
    "import sys\n",
    "input = sys.stdin.readline\n",
    "\n",
    "e=1000000007\n",
    "M,N = map(int,input().split())\n",
    "A=list(map(int, input().split()))\n",
    "B=list(map(int, input().split()))\n",
    "\n",
    "dp = [0]*7\n",
    "for i in A: dp[i%7]=1\n",
    "temp=0\n",
    "\n",
    "for b in B:\n",
    "    temp += b\n",
    "    l = [1 if (i+temp)%7 !=0 and dp[i]==1 else 0 for i in range(7)]\n",
    "    if sum(l)!=0:\n",
    "        dp=l\n",
    "    else :\n",
    "        temp-=b\n",
    "\n",
    "a=[]\n",
    "for i in A:\n",
    "    if dp[i%7] ==1:\n",
    "        a+=[str((i+temp)%e)]\n",
    "print(len(a))\n",
    "print(' '.join(a))"
   ]
  },
  {
   "cell_type": "code",
   "execution_count": 18,
   "metadata": {},
   "outputs": [
    {
     "name": "stdout",
     "output_type": "stream",
     "text": [
      "7\n",
      "7 14 21 28 35 42 49 \n"
     ]
    }
   ],
   "source": [
    "e=1000000007\n",
    "# M,N = map(int,input().split())\n",
    "# A=list(map(int, input().split()))\n",
    "# B=list(map(int, input().split()))\n",
    "M,N=7,7\n",
    "A=[7, 14, 21, 28, 35, 42, 49]\n",
    "B=[7,7,7,7,7,7,7]\n",
    "chk = 0\n",
    "dp = [1 for _ in range(7)]\n",
    "temp=0\n",
    "\n",
    "for b in B:\n",
    "    temp += b\n",
    "    chk += b\n",
    "    if (chk+A[0])%7 == 0: chk-=b\n",
    "    l = [1 if (i+temp)%7 !=0 and dp[i]==1 else 0 for i in range(7)]\n",
    "    if sum(l)!=0:\n",
    "        dp=l\n",
    "\n",
    "s=0\n",
    "l=''\n",
    "l2=''\n",
    "for i in A:\n",
    "    if dp[i%7] ==1:\n",
    "        s+=1\n",
    "        l+=str((i+temp)%e)+' '\n",
    "    l2+=str((i+chk)%e)+' '\n",
    "        \n",
    "if s==0:\n",
    "    print(len(A))\n",
    "    print(l2)\n",
    "    \n",
    "else :\n",
    "    print(s)\n",
    "    print(l)"
   ]
  },
  {
   "cell_type": "code",
   "execution_count": null,
   "metadata": {},
   "outputs": [],
   "source": [
    "M,N=7,3\n",
    "A=[1,1,1,1,1,1,1]\n",
    "B=[1,2,3]\n",
    "\n",
    "M,N=7,3\n",
    "A=[7,7,7,7,7,7,7]\n",
    "B=[7,7,7]\n",
    "\n",
    "M,N=7,3\n",
    "A=[1,3,4,5,6,7,8]\n",
    "B=[1,2,3]\n",
    "\n",
    "M,N=7,7\n",
    "A=[7, 14, 21, 28, 35, 42, 49]\n",
    "B=[7,7,7,7,7,7,7]\n",
    "\n",
    "\n",
    "M,N=7,7\n",
    "A=[7, 14, 20, 27, 35, 42, 49]\n",
    "B=[1,6,6,6,6,6,6]"
   ]
  },
  {
   "cell_type": "code",
   "execution_count": null,
   "metadata": {},
   "outputs": [],
   "source": [
    "import sys\n",
    "input = sys.stdin.readline\n",
    "\n",
    "e=1000000007\n",
    "M,N = map(int,input().split())\n",
    "A=list(map(int, input().split()))\n",
    "B=list(map(int, input().split()))\n",
    "\n",
    "AA=[i%7 for i in A]\n",
    "BB=[i%7 for i in B]\n",
    "dp = [0 for _ in range(M)]\n",
    "\n",
    "temp=0\n",
    "for b in BB:\n",
    "    temp += b\n",
    "    temp %= 7\n",
    "    l=[1 if (i+temp)%7 != 0 else 0 for i in AA]\n",
    "    \n",
    "    if sum(l)==0:\n",
    "        A = l\n",
    "        \n",
    "print(len(l))\n",
    "for i in l:\n",
    "    print((i+temp)%e, end=' ')\n"
   ]
  },
  {
   "cell_type": "code",
   "execution_count": null,
   "metadata": {},
   "outputs": [],
   "source": [
    "import sys\n",
    "input = sys.stdin.readline\n",
    "\n",
    "M,N = map(int,input().split())\n",
    "A=list(map(int,input().split()))\n",
    "B=list(map(int,input().split()))\n",
    "\n",
    "temp=[i for i in A]\n",
    "for b in B:\n",
    "    l=[i+b for i in l if (i+b%7) != 0]\n",
    "    if l == []:\n",
    "        \n",
    "\n",
    "print(len(l))\n",
    "for i in l:\n",
    "    print(i%1000000007, end=' ')"
   ]
  },
  {
   "cell_type": "code",
   "execution_count": null,
   "metadata": {},
   "outputs": [],
   "source": []
  }
 ],
 "metadata": {
  "kernelspec": {
   "display_name": "Python 3",
   "language": "python",
   "name": "python3"
  },
  "language_info": {
   "codemirror_mode": {
    "name": "ipython",
    "version": 3
   },
   "file_extension": ".py",
   "mimetype": "text/x-python",
   "name": "python",
   "nbconvert_exporter": "python",
   "pygments_lexer": "ipython3",
   "version": "3.8.1"
  }
 },
 "nbformat": 4,
 "nbformat_minor": 4
}
